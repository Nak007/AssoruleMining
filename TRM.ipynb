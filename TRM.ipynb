{
 "cells": [
  {
   "cell_type": "markdown",
   "metadata": {},
   "source": [
    "## Example"
   ]
  },
  {
   "cell_type": "code",
   "execution_count": 2,
   "metadata": {},
   "outputs": [],
   "source": [
    "import pandas as pd, numpy as np, sys\n",
    "from sklearn.ensemble import (RandomForestClassifier, \n",
    "                              ExtraTreesClassifier)\n",
    "from sklearn.tree import DecisionTreeClassifier\n",
    "from sklearn.model_selection import train_test_split as tts\n",
    "from sklearn.preprocessing import OneHotEncoder\n",
    "from sklearn.datasets import fetch_openml\n",
    "from itertools import product\n",
    "import matplotlib.pyplot as plt\n",
    "import matplotlib as mpl\n",
    "from matplotlib.ticker import PercentFormatter\n",
    "from AssoruleMining import *"
   ]
  },
  {
   "cell_type": "code",
   "execution_count": 3,
   "metadata": {},
   "outputs": [],
   "source": [
    "mpl.rcParams['lines.linewidth'] = 2\n",
    "mpl.rcParams['axes.spines.right'] = False\n",
    "mpl.rcParams['axes.spines.top'] = False\n",
    "mpl.rcParams['axes.grid'] = False"
   ]
  },
  {
   "cell_type": "code",
   "execution_count": 4,
   "metadata": {},
   "outputs": [],
   "source": [
    "def plot_results(train, test):\n",
    "    \n",
    "    fig, ax = plt.subplots(figsize=(7,5))\n",
    "    x = np.arange(len(train)) + 1 \n",
    "    \n",
    "    # Common plotting style\n",
    "    base_style = dict(lw=2, solid_capstyle='round', ms=7)\n",
    "    configs = [(train, \"Precision\", \"#1B9CFC\", \"Train\", \"-\", \"o\"),\n",
    "               (test, \"Precision\", \"#1B9CFC\", \"Test\",  \"--\", \"o\"),\n",
    "               (train, \"Recall\", \"#FC427B\", \"Train\", \"-\", \"s\"),\n",
    "               (test, \"Recall\", \"#FC427B\", \"Test\", \"--\", \"s\")]\n",
    "    \n",
    "    for n, (data, col, color, which, ls, marker) in enumerate(configs):\n",
    "        ax.plot(data[col.lower()], color=color, ls=ls, marker=None, \n",
    "                label=\"{} ({})\".format(col, which), **base_style)\n",
    "        if n==1:\n",
    "            ax.fill_between(x, train[\"precision\"], test[\"precision\"], \n",
    "                    color=\"#1B9CFC\", alpha=0.2, label=\"Precision Gap\")\n",
    "        elif n==3:\n",
    "            ax.fill_between(x, train[\"recall\"], test[\"recall\"], \n",
    "                    color=\"#FC427B\", alpha=0.2, label=\"Recall Gap\")\n",
    "\n",
    "    ax.set_ylabel(\"Precision & Recall\", fontsize=13, fontweight=1000)\n",
    "    ax.set_xlabel(\"Number of Rules\", fontsize=13, fontweight=1000)\n",
    "    ax.legend(loc=\"best\", fontsize=12, framealpha=0, ncol=2, \n",
    "              columnspacing=0.5, handletextpad=0.8, \n",
    "              labelspacing=0.4, handlelength=1.5)\n",
    "    ax.yaxis.set_major_formatter(PercentFormatter(xmax=1))\n",
    "    ax.tick_params(axis='both', labelsize=13)\n",
    "    plt.tight_layout()\n",
    "    \n",
    "    return ax"
   ]
  },
  {
   "cell_type": "markdown",
   "metadata": {},
   "source": [
    "Target: class (\">50K\" vs \"<=50K\")"
   ]
  },
  {
   "cell_type": "code",
   "execution_count": 13,
   "metadata": {},
   "outputs": [],
   "source": [
    "X = fetch_openml(\"adult\", version=2, as_frame=True).frame.drop(columns=[\"fnlwgt\", \"education-num\"])\n",
    "y = X.pop(\"class\").values\n",
    "y = np.where(y==\">50K\", 1, 0)"
   ]
  },
  {
   "cell_type": "code",
   "execution_count": 14,
   "metadata": {},
   "outputs": [
    {
     "data": {
      "text/html": [
       "<div>\n",
       "<style scoped>\n",
       "    .dataframe tbody tr th:only-of-type {\n",
       "        vertical-align: middle;\n",
       "    }\n",
       "\n",
       "    .dataframe tbody tr th {\n",
       "        vertical-align: top;\n",
       "    }\n",
       "\n",
       "    .dataframe thead th {\n",
       "        text-align: right;\n",
       "    }\n",
       "</style>\n",
       "<table border=\"1\" class=\"dataframe\">\n",
       "  <thead>\n",
       "    <tr style=\"text-align: right;\">\n",
       "      <th></th>\n",
       "      <th>age</th>\n",
       "      <th>workclass</th>\n",
       "      <th>education</th>\n",
       "      <th>marital-status</th>\n",
       "      <th>occupation</th>\n",
       "      <th>relationship</th>\n",
       "      <th>race</th>\n",
       "      <th>sex</th>\n",
       "      <th>capital-gain</th>\n",
       "      <th>capital-loss</th>\n",
       "      <th>hours-per-week</th>\n",
       "      <th>native-country</th>\n",
       "    </tr>\n",
       "  </thead>\n",
       "  <tbody>\n",
       "    <tr>\n",
       "      <th>0</th>\n",
       "      <td>25</td>\n",
       "      <td>Private</td>\n",
       "      <td>11th</td>\n",
       "      <td>Never-married</td>\n",
       "      <td>Machine-op-inspct</td>\n",
       "      <td>Own-child</td>\n",
       "      <td>Black</td>\n",
       "      <td>Male</td>\n",
       "      <td>0</td>\n",
       "      <td>0</td>\n",
       "      <td>40</td>\n",
       "      <td>United-States</td>\n",
       "    </tr>\n",
       "    <tr>\n",
       "      <th>1</th>\n",
       "      <td>38</td>\n",
       "      <td>Private</td>\n",
       "      <td>HS-grad</td>\n",
       "      <td>Married-civ-spouse</td>\n",
       "      <td>Farming-fishing</td>\n",
       "      <td>Husband</td>\n",
       "      <td>White</td>\n",
       "      <td>Male</td>\n",
       "      <td>0</td>\n",
       "      <td>0</td>\n",
       "      <td>50</td>\n",
       "      <td>United-States</td>\n",
       "    </tr>\n",
       "    <tr>\n",
       "      <th>2</th>\n",
       "      <td>28</td>\n",
       "      <td>Local-gov</td>\n",
       "      <td>Assoc-acdm</td>\n",
       "      <td>Married-civ-spouse</td>\n",
       "      <td>Protective-serv</td>\n",
       "      <td>Husband</td>\n",
       "      <td>White</td>\n",
       "      <td>Male</td>\n",
       "      <td>0</td>\n",
       "      <td>0</td>\n",
       "      <td>40</td>\n",
       "      <td>United-States</td>\n",
       "    </tr>\n",
       "    <tr>\n",
       "      <th>3</th>\n",
       "      <td>44</td>\n",
       "      <td>Private</td>\n",
       "      <td>Some-college</td>\n",
       "      <td>Married-civ-spouse</td>\n",
       "      <td>Machine-op-inspct</td>\n",
       "      <td>Husband</td>\n",
       "      <td>Black</td>\n",
       "      <td>Male</td>\n",
       "      <td>7688</td>\n",
       "      <td>0</td>\n",
       "      <td>40</td>\n",
       "      <td>United-States</td>\n",
       "    </tr>\n",
       "    <tr>\n",
       "      <th>4</th>\n",
       "      <td>18</td>\n",
       "      <td>NaN</td>\n",
       "      <td>Some-college</td>\n",
       "      <td>Never-married</td>\n",
       "      <td>NaN</td>\n",
       "      <td>Own-child</td>\n",
       "      <td>White</td>\n",
       "      <td>Female</td>\n",
       "      <td>0</td>\n",
       "      <td>0</td>\n",
       "      <td>30</td>\n",
       "      <td>United-States</td>\n",
       "    </tr>\n",
       "  </tbody>\n",
       "</table>\n",
       "</div>"
      ],
      "text/plain": [
       "   age  workclass     education      marital-status         occupation  \\\n",
       "0   25    Private          11th       Never-married  Machine-op-inspct   \n",
       "1   38    Private       HS-grad  Married-civ-spouse    Farming-fishing   \n",
       "2   28  Local-gov    Assoc-acdm  Married-civ-spouse    Protective-serv   \n",
       "3   44    Private  Some-college  Married-civ-spouse  Machine-op-inspct   \n",
       "4   18        NaN  Some-college       Never-married                NaN   \n",
       "\n",
       "  relationship   race     sex  capital-gain  capital-loss  hours-per-week  \\\n",
       "0    Own-child  Black    Male             0             0              40   \n",
       "1      Husband  White    Male             0             0              50   \n",
       "2      Husband  White    Male             0             0              40   \n",
       "3      Husband  Black    Male          7688             0              40   \n",
       "4    Own-child  White  Female             0             0              30   \n",
       "\n",
       "  native-country  \n",
       "0  United-States  \n",
       "1  United-States  \n",
       "2  United-States  \n",
       "3  United-States  \n",
       "4  United-States  "
      ]
     },
     "execution_count": 14,
     "metadata": {},
     "output_type": "execute_result"
    }
   ],
   "source": [
    "X.head()"
   ]
  },
  {
   "cell_type": "code",
   "execution_count": 15,
   "metadata": {},
   "outputs": [
    {
     "name": "stdout",
     "output_type": "stream",
     "text": [
      "<class 'pandas.core.frame.DataFrame'>\n",
      "RangeIndex: 48842 entries, 0 to 48841\n",
      "Data columns (total 12 columns):\n",
      " #   Column          Non-Null Count  Dtype   \n",
      "---  ------          --------------  -----   \n",
      " 0   age             48842 non-null  int64   \n",
      " 1   workclass       46043 non-null  category\n",
      " 2   education       48842 non-null  category\n",
      " 3   marital-status  48842 non-null  category\n",
      " 4   occupation      46033 non-null  category\n",
      " 5   relationship    48842 non-null  category\n",
      " 6   race            48842 non-null  category\n",
      " 7   sex             48842 non-null  category\n",
      " 8   capital-gain    48842 non-null  int64   \n",
      " 9   capital-loss    48842 non-null  int64   \n",
      " 10  hours-per-week  48842 non-null  int64   \n",
      " 11  native-country  47985 non-null  category\n",
      "dtypes: category(8), int64(4)\n",
      "memory usage: 1.9 MB\n"
     ]
    }
   ],
   "source": [
    "X.info()"
   ]
  },
  {
   "cell_type": "markdown",
   "metadata": {},
   "source": [
    "We use **`define_dtype`** to convert columns in `X` to possible dtypes which are `float32`, `int32`, `category`, and `object`. However, it ignores columns, whose dtype is either np.datetime64 or np.timedelta64."
   ]
  },
  {
   "cell_type": "code",
   "execution_count": 16,
   "metadata": {},
   "outputs": [],
   "source": [
    "# print(define_dtype.__doc__)"
   ]
  },
  {
   "cell_type": "code",
   "execution_count": 17,
   "metadata": {},
   "outputs": [],
   "source": [
    "# X = define_dtype(X, max_category=20)\n",
    "# X.info()"
   ]
  },
  {
   "cell_type": "markdown",
   "metadata": {},
   "source": [
    "Convert categorical to numerical variable."
   ]
  },
  {
   "cell_type": "code",
   "execution_count": 18,
   "metadata": {},
   "outputs": [],
   "source": [
    "cat = list(X.select_dtypes(include=[\"category\"]))\n",
    "for c in cat: X[c] = X[c].cat.add_categories('missing').fillna('missing')\n",
    "enc = OneHotEncoder(handle_unknown='ignore').fit(X[cat])\n",
    "columns = [\"{} ({})\".format(*n) \n",
    "           for c,v in zip(cat, enc.categories_) \n",
    "           for n in list(product([c],v))]"
   ]
  },
  {
   "cell_type": "code",
   "execution_count": 19,
   "metadata": {},
   "outputs": [],
   "source": [
    "cat_df = pd.DataFrame(enc.transform(X[cat]).toarray().astype(int), columns=columns)\n",
    "cat_X  = X.drop(columns=cat).merge(cat_df, left_index=True, right_index=True)"
   ]
  },
  {
   "cell_type": "code",
   "execution_count": 20,
   "metadata": {},
   "outputs": [],
   "source": [
    "Xt_train, Xt_test, yt_train, yt_test = tts(cat_X, y, test_size=0.3, shuffle=True, random_state=0)"
   ]
  },
  {
   "cell_type": "markdown",
   "metadata": {},
   "source": [
    "## Creation of rules\n",
    "- Extract the best path in tree that satisfies criteria.\n",
    "- If **`exclude`=True**, after each iteration training samples under previously selected leaf node (path) are excluded from the training set before determining the next rule. If **`exclude`=False**, it changes target to non-target i.e. 1 to 0 while keeping the sample size the same.\n",
    "- This approach stops when the evaluating metric is deemed satisfactory (`max_iter`)."
   ]
  },
  {
   "cell_type": "code",
   "execution_count": 21,
   "metadata": {},
   "outputs": [],
   "source": [
    "# print(TreeRuleMining.__doc__)"
   ]
  },
  {
   "cell_type": "markdown",
   "metadata": {},
   "source": [
    "### Example 1: **`DecisionTreeClassifier`**"
   ]
  },
  {
   "cell_type": "code",
   "execution_count": 39,
   "metadata": {},
   "outputs": [],
   "source": [
    "kwds = dict(max_depth=None,\n",
    "            max_features=Xt_train.shape[1], \n",
    "            random_state=0, \n",
    "            min_samples_leaf=0.01, \n",
    "            class_weight=\"balanced\")\n",
    "Tree1 = DecisionTreeClassifier(**kwds)"
   ]
  },
  {
   "cell_type": "code",
   "execution_count": 40,
   "metadata": {},
   "outputs": [
    {
     "data": {
      "application/vnd.jupyter.widget-view+json": {
       "model_id": "1cacde0b2c434f9aa440a0c0b7a2cc62",
       "version_major": 2,
       "version_minor": 0
      },
      "text/plain": [
       "HBox(children=(HTMLMath(value='Calculating . . .'), HTMLMath(value='')))"
      ]
     },
     "metadata": {},
     "output_type": "display_data"
    }
   ],
   "source": [
    "model1 = TreeRuleMining(Tree1, \n",
    "                        exclude=True, \n",
    "                        metric=\"recall\", \n",
    "                        max_iter=50).fit(Xt_train, yt_train)"
   ]
  },
  {
   "cell_type": "markdown",
   "metadata": {},
   "source": [
    "Apply selected rules on `X` and evaluate rule performance against `y`."
   ]
  },
  {
   "cell_type": "code",
   "execution_count": 41,
   "metadata": {},
   "outputs": [],
   "source": [
    "eval_train1 = model1.evaluate(Xt_train, yt_train, cumulative=True)\n",
    "eval_test1  = model1.evaluate(Xt_test , yt_test , cumulative=True)"
   ]
  },
  {
   "cell_type": "code",
   "execution_count": 42,
   "metadata": {},
   "outputs": [
    {
     "data": {
      "text/html": [
       "<div>\n",
       "<style scoped>\n",
       "    .dataframe tbody tr th:only-of-type {\n",
       "        vertical-align: middle;\n",
       "    }\n",
       "\n",
       "    .dataframe tbody tr th {\n",
       "        vertical-align: top;\n",
       "    }\n",
       "\n",
       "    .dataframe thead th {\n",
       "        text-align: right;\n",
       "    }\n",
       "</style>\n",
       "<table border=\"1\" class=\"dataframe\">\n",
       "  <thead>\n",
       "    <tr style=\"text-align: right;\">\n",
       "      <th></th>\n",
       "      <th>cum_targets</th>\n",
       "      <th>cum_samples</th>\n",
       "      <th>precision</th>\n",
       "      <th>recall</th>\n",
       "    </tr>\n",
       "    <tr>\n",
       "      <th>rule</th>\n",
       "      <th></th>\n",
       "      <th></th>\n",
       "      <th></th>\n",
       "      <th></th>\n",
       "    </tr>\n",
       "  </thead>\n",
       "  <tbody>\n",
       "    <tr>\n",
       "      <th>1</th>\n",
       "      <td>483</td>\n",
       "      <td>492</td>\n",
       "      <td>0.981707</td>\n",
       "      <td>0.059104</td>\n",
       "    </tr>\n",
       "    <tr>\n",
       "      <th>2</th>\n",
       "      <td>1035</td>\n",
       "      <td>1065</td>\n",
       "      <td>0.971831</td>\n",
       "      <td>0.126652</td>\n",
       "    </tr>\n",
       "    <tr>\n",
       "      <th>3</th>\n",
       "      <td>1448</td>\n",
       "      <td>1579</td>\n",
       "      <td>0.917036</td>\n",
       "      <td>0.177190</td>\n",
       "    </tr>\n",
       "    <tr>\n",
       "      <th>4</th>\n",
       "      <td>1788</td>\n",
       "      <td>2009</td>\n",
       "      <td>0.889995</td>\n",
       "      <td>0.218796</td>\n",
       "    </tr>\n",
       "    <tr>\n",
       "      <th>5</th>\n",
       "      <td>2332</td>\n",
       "      <td>2779</td>\n",
       "      <td>0.839151</td>\n",
       "      <td>0.285365</td>\n",
       "    </tr>\n",
       "  </tbody>\n",
       "</table>\n",
       "</div>"
      ],
      "text/plain": [
       "      cum_targets  cum_samples  precision    recall\n",
       "rule                                               \n",
       "1             483          492   0.981707  0.059104\n",
       "2            1035         1065   0.971831  0.126652\n",
       "3            1448         1579   0.917036  0.177190\n",
       "4            1788         2009   0.889995  0.218796\n",
       "5            2332         2779   0.839151  0.285365"
      ]
     },
     "execution_count": 42,
     "metadata": {},
     "output_type": "execute_result"
    }
   ],
   "source": [
    "eval_train1.head()"
   ]
  },
  {
   "cell_type": "markdown",
   "metadata": {},
   "source": [
    "Example of visualizations using **`plot_results`**"
   ]
  },
  {
   "cell_type": "code",
   "execution_count": 43,
   "metadata": {},
   "outputs": [
    {
     "data": {
      "image/png": "[encoded data removed]",
      "text/plain": [
       "<Figure size 504x360 with 1 Axes>"
      ]
     },
     "metadata": {
      "needs_background": "light"
     },
     "output_type": "display_data"
    }
   ],
   "source": [
    "_ = plot_results(eval_train1, eval_test1)"
   ]
  },
  {
   "cell_type": "markdown",
   "metadata": {},
   "source": [
    "See all selected rules and their subrules using **`print_rule`**."
   ]
  },
  {
   "cell_type": "code",
   "execution_count": 27,
   "metadata": {
    "scrolled": true
   },
   "outputs": [
    {
     "name": "stdout",
     "output_type": "stream",
     "text": [
      "Rule_1\n",
      "Operator:  and\n",
      "+------+-------------------------------------+------+-----------+\n",
      "| Item | Variable                            | Sign |     Value |\n",
      "+------+-------------------------------------+------+-----------+\n",
      "|  1   | marital-status (Married-civ-spouse) |  >   |      0.50 |\n",
      "|  2   | capital-gain                        |  >   |  5,095.50 |\n",
      "|  3   | age                                 |  <=  |     51.50 |\n",
      "|  4   | capital-gain                        |  <=  | 11,356.00 |\n",
      "+------+-------------------------------------+------+-----------+\n",
      "\n",
      "Rule_2\n",
      "Operator:  and\n",
      "+------+-------------------------------------+------+----------+\n",
      "| Item | Variable                            | Sign |    Value |\n",
      "+------+-------------------------------------+------+----------+\n",
      "|  1   | marital-status (Married-civ-spouse) |  >   |     0.50 |\n",
      "|  2   | age                                 |  >   |    29.50 |\n",
      "|  3   | capital-gain                        |  >   | 5,095.50 |\n",
      "|  4   | age                                 |  <=  |    51.50 |\n",
      "+------+-------------------------------------+------+----------+\n",
      "\n",
      "Rule_3\n",
      "Operator:  and\n",
      "+------+-------------------------------------+------+----------+\n",
      "| Item | Variable                            | Sign |    Value |\n",
      "+------+-------------------------------------+------+----------+\n",
      "|  1   | marital-status (Married-civ-spouse) |  <=  |     0.50 |\n",
      "|  2   | capital-gain                        |  >   | 4,668.50 |\n",
      "+------+-------------------------------------+------+----------+\n",
      "\n",
      "Rule_4\n",
      "Operator:  and\n",
      "+------+-------------------------------------+------+-------+\n",
      "| Item | Variable                            | Sign | Value |\n",
      "+------+-------------------------------------+------+-------+\n",
      "|  1   | marital-status (Married-civ-spouse) |  >   |  0.50 |\n",
      "|  2   | age                                 |  >   | 29.50 |\n",
      "|  3   | education (Bachelors)               |  >   |  0.50 |\n",
      "|  4   | occupation (Exec-managerial)        |  >   |  0.50 |\n",
      "|  5   | age                                 |  >   | 44.50 |\n",
      "+------+-------------------------------------+------+-------+\n",
      "\n",
      "Rule_5\n",
      "Operator:  and\n",
      "+------+-------------------------------------+------+-------+\n",
      "| Item | Variable                            | Sign | Value |\n",
      "+------+-------------------------------------+------+-------+\n",
      "|  1   | marital-status (Married-civ-spouse) |  >   |  0.50 |\n",
      "|  2   | occupation (Prof-specialty)         |  >   |  0.50 |\n",
      "|  3   | age                                 |  >   | 33.50 |\n",
      "|  4   | hours-per-week                      |  >   | 42.50 |\n",
      "|  5   | workclass (Private)                 |  <=  |  0.50 |\n",
      "+------+-------------------------------------+------+-------+\n",
      "\n"
     ]
    }
   ],
   "source": [
    "n_rules = 5\n",
    "for n in np.arange(n_rules)+1:\n",
    "    print(key:=f\"Rule_{n}\")\n",
    "    print_rule(model1.rules[key])\n",
    "    print()"
   ]
  },
  {
   "cell_type": "markdown",
   "metadata": {},
   "source": [
    "Use **`self.transform`** to convert rules into features array."
   ]
  },
  {
   "cell_type": "code",
   "execution_count": 28,
   "metadata": {},
   "outputs": [
    {
     "data": {
      "text/html": [
       "<div>\n",
       "<style scoped>\n",
       "    .dataframe tbody tr th:only-of-type {\n",
       "        vertical-align: middle;\n",
       "    }\n",
       "\n",
       "    .dataframe tbody tr th {\n",
       "        vertical-align: top;\n",
       "    }\n",
       "\n",
       "    .dataframe thead th {\n",
       "        text-align: right;\n",
       "    }\n",
       "</style>\n",
       "<table border=\"1\" class=\"dataframe\">\n",
       "  <thead>\n",
       "    <tr style=\"text-align: right;\">\n",
       "      <th></th>\n",
       "      <th>Rule_1</th>\n",
       "      <th>Rule_2</th>\n",
       "      <th>Rule_3</th>\n",
       "      <th>Rule_4</th>\n",
       "      <th>Rule_5</th>\n",
       "    </tr>\n",
       "  </thead>\n",
       "  <tbody>\n",
       "    <tr>\n",
       "      <th>0</th>\n",
       "      <td>False</td>\n",
       "      <td>False</td>\n",
       "      <td>False</td>\n",
       "      <td>False</td>\n",
       "      <td>False</td>\n",
       "    </tr>\n",
       "    <tr>\n",
       "      <th>1</th>\n",
       "      <td>False</td>\n",
       "      <td>False</td>\n",
       "      <td>False</td>\n",
       "      <td>False</td>\n",
       "      <td>False</td>\n",
       "    </tr>\n",
       "    <tr>\n",
       "      <th>2</th>\n",
       "      <td>True</td>\n",
       "      <td>True</td>\n",
       "      <td>False</td>\n",
       "      <td>False</td>\n",
       "      <td>False</td>\n",
       "    </tr>\n",
       "    <tr>\n",
       "      <th>3</th>\n",
       "      <td>False</td>\n",
       "      <td>False</td>\n",
       "      <td>False</td>\n",
       "      <td>False</td>\n",
       "      <td>False</td>\n",
       "    </tr>\n",
       "    <tr>\n",
       "      <th>4</th>\n",
       "      <td>False</td>\n",
       "      <td>False</td>\n",
       "      <td>False</td>\n",
       "      <td>False</td>\n",
       "      <td>False</td>\n",
       "    </tr>\n",
       "  </tbody>\n",
       "</table>\n",
       "</div>"
      ],
      "text/plain": [
       "   Rule_1  Rule_2  Rule_3  Rule_4  Rule_5\n",
       "0   False   False   False   False   False\n",
       "1   False   False   False   False   False\n",
       "2    True    True   False   False   False\n",
       "3   False   False   False   False   False\n",
       "4   False   False   False   False   False"
      ]
     },
     "execution_count": 28,
     "metadata": {},
     "output_type": "execute_result"
    }
   ],
   "source": [
    "model1.transform(Xt_train, n_rules).head()"
   ]
  },
  {
   "cell_type": "markdown",
   "metadata": {},
   "source": [
    "Summary on `Xt_train` using **`print_stats`**"
   ]
  },
  {
   "cell_type": "code",
   "execution_count": 29,
   "metadata": {},
   "outputs": [
    {
     "name": "stdout",
     "output_type": "stream",
     "text": [
      "+----------------+--------+-------+\n",
      "| Statistics     |  Value |     % |\n",
      "+----------------+--------+-------+\n",
      "| N              | 34,189 |       |\n",
      "| Target         |  8,172 | 23.9% |\n",
      "| True Positive  |  1,721 |  5.0% |\n",
      "| True Negative  | 25,769 | 75.4% |\n",
      "| False Positive |    248 |  0.7% |\n",
      "| False Negative |  6,451 | 18.9% |\n",
      "| Precision      |        | 87.4% |\n",
      "| Recall         |        | 21.1% |\n",
      "| Accuracy       |        | 80.4% |\n",
      "| F1-Score       |        | 33.9% |\n",
      "+----------------+--------+-------+\n"
     ]
    }
   ],
   "source": [
    "yt_pred_train = model1.transform(Xt_train, n_rules).sum(1)>0\n",
    "print_stats(yt_train, yt_pred_train)"
   ]
  },
  {
   "cell_type": "code",
   "execution_count": 30,
   "metadata": {},
   "outputs": [
    {
     "name": "stdout",
     "output_type": "stream",
     "text": [
      "+----------------+--------+-------+\n",
      "| Statistics     |  Value |     % |\n",
      "+----------------+--------+-------+\n",
      "| N              | 14,653 |       |\n",
      "| Target         |  3,515 | 24.0% |\n",
      "| True Positive  |    762 |  5.2% |\n",
      "| True Negative  | 11,038 | 75.3% |\n",
      "| False Positive |    100 |  0.7% |\n",
      "| False Negative |  2,753 | 18.8% |\n",
      "| Precision      |        | 88.4% |\n",
      "| Recall         |        | 21.7% |\n",
      "| Accuracy       |        | 80.5% |\n",
      "| F1-Score       |        | 34.8% |\n",
      "+----------------+--------+-------+\n"
     ]
    }
   ],
   "source": [
    "yt_pred_test = model1.transform(Xt_test, n_rules).sum(1)>0\n",
    "print_stats(yt_test, yt_pred_test)"
   ]
  },
  {
   "cell_type": "markdown",
   "metadata": {},
   "source": [
    "### Example 2: **`RandomForestClassifier`**"
   ]
  },
  {
   "cell_type": "code",
   "execution_count": 31,
   "metadata": {},
   "outputs": [],
   "source": [
    "kwds = dict(n_estimators=20,\n",
    "            max_depth=None,  \n",
    "            min_samples_leaf=0.01,\n",
    "            max_features=\"sqrt\", \n",
    "            random_state=0, \n",
    "            bootstrap=True)\n",
    "Tree2 = RandomForestClassifier(**kwds)"
   ]
  },
  {
   "cell_type": "code",
   "execution_count": 32,
   "metadata": {},
   "outputs": [
    {
     "data": {
      "application/vnd.jupyter.widget-view+json": {
       "model_id": "d1baa4ce325f40d99d7b64c9efaafdc3",
       "version_major": 2,
       "version_minor": 0
      },
      "text/plain": [
       "HBox(children=(HTMLMath(value='Calculating . . .'), HTMLMath(value='')))"
      ]
     },
     "metadata": {},
     "output_type": "display_data"
    }
   ],
   "source": [
    "model2 = TreeRuleMining(Tree2, \n",
    "                        exclude=True, \n",
    "                        metric=\"recall\", \n",
    "                        max_iter=50).fit(Xt_train, yt_train)"
   ]
  },
  {
   "cell_type": "code",
   "execution_count": 33,
   "metadata": {},
   "outputs": [],
   "source": [
    "eval_train2 = model2.evaluate(Xt_train, yt_train, cumulative=True)\n",
    "eval_test2  = model2.evaluate(Xt_test , yt_test , cumulative=True)"
   ]
  },
  {
   "cell_type": "code",
   "execution_count": 34,
   "metadata": {},
   "outputs": [
    {
     "data": {
      "image/png": "[encoded data removed]",
      "text/plain": [
       "<Figure size 504x360 with 1 Axes>"
      ]
     },
     "metadata": {
      "needs_background": "light"
     },
     "output_type": "display_data"
    }
   ],
   "source": [
    "_ = plot_results(eval_train2, eval_test2)"
   ]
  },
  {
   "cell_type": "markdown",
   "metadata": {},
   "source": [
    "### Example 3: **`ExtraTreesClassifier`** "
   ]
  },
  {
   "cell_type": "code",
   "execution_count": 35,
   "metadata": {},
   "outputs": [],
   "source": [
    "kwds = dict(n_estimators=20, \n",
    "            criterion=\"gini\",\n",
    "            max_depth=None,  \n",
    "            min_samples_leaf=0.01,\n",
    "            max_features=\"sqrt\", \n",
    "            random_state=0, \n",
    "            bootstrap=True, \n",
    "            monotonic_cst=[1]*Xt_train.shape[1])\n",
    "Tree3 = ExtraTreesClassifier(**kwds)"
   ]
  },
  {
   "cell_type": "code",
   "execution_count": 36,
   "metadata": {},
   "outputs": [
    {
     "data": {
      "application/vnd.jupyter.widget-view+json": {
       "model_id": "afbaa5a6c5c349489fcbfc6f46e22d47",
       "version_major": 2,
       "version_minor": 0
      },
      "text/plain": [
       "HBox(children=(HTMLMath(value='Calculating . . .'), HTMLMath(value='')))"
      ]
     },
     "metadata": {},
     "output_type": "display_data"
    }
   ],
   "source": [
    "model3 = TreeRuleMining(Tree3, \n",
    "                        exclude=True, \n",
    "                        metric=\"recall\", \n",
    "                        max_iter=50).fit(Xt_train, yt_train)"
   ]
  },
  {
   "cell_type": "code",
   "execution_count": 37,
   "metadata": {},
   "outputs": [],
   "source": [
    "eval_train3 = model3.evaluate(Xt_train, yt_train, cumulative=True)\n",
    "eval_test3  = model3.evaluate(Xt_test , yt_test , cumulative=True)"
   ]
  },
  {
   "cell_type": "code",
   "execution_count": 38,
   "metadata": {},
   "outputs": [
    {
     "data": {
      "image/png": "[encoded data removed]",
      "text/plain": [
       "<Figure size 504x360 with 1 Axes>"
      ]
     },
     "metadata": {
      "needs_background": "light"
     },
     "output_type": "display_data"
    }
   ],
   "source": [
    "_ = plot_results(eval_train3, eval_test3)"
   ]
  },
  {
   "cell_type": "code",
   "execution_count": null,
   "metadata": {},
   "outputs": [],
   "source": []
  }
 ],
 "metadata": {
  "kernelspec": {
   "display_name": "Python 3 (ipykernel)",
   "language": "python",
   "name": "python3"
  },
  "language_info": {
   "codemirror_mode": {
    "name": "ipython",
    "version": 3
   },
   "file_extension": ".py",
   "mimetype": "text/x-python",
   "name": "python",
   "nbconvert_exporter": "python",
   "pygments_lexer": "ipython3",
   "version": "3.9.12"
  }
 },
 "nbformat": 4,
 "nbformat_minor": 2
}
