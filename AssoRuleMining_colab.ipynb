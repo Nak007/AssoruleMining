{
 "cells": [
  {
   "cell_type": "markdown",
   "metadata": {},
   "source": [
    "### Google.colab\n",
    "Only execute this cell when use on google colab platform (colab)."
   ]
  },
  {
   "cell_type": "markdown",
   "metadata": {},
   "source": [
    "<table class=\"tfo-notebook-buttons\" align=\"left\">\n",
    "  <td>\n",
    "    <a target=\"_blank\" href=\"https://github.com/Nak007/AssoruleMining\">\n",
    "    <img src=\"https://www.tensorflow.org/images/GitHub-Mark-32px.png\" />View source on GitHub</a>\n",
    "  </td>\n",
    "</table>"
   ]
  },
  {
   "cell_type": "code",
   "execution_count": null,
   "metadata": {},
   "outputs": [],
   "source": [
    "# Mount with google drive.\n",
    "from google.colab import drive\n",
    "drive.mount('/content/dirve')\n",
    "# Import other libraries required. All *.py will be \n",
    "# stored under the following location i.e. '/content/example.py'.\n",
    "!git clone 'http://github.com/Nak007/AssoruleMining.git'\n",
    "!pip install PrettyTable"
   ]
  },
  {
   "cell_type": "markdown",
   "metadata": {},
   "source": [
    "## Example"
   ]
  },
  {
   "cell_type": "code",
   "execution_count": 1,
   "metadata": {},
   "outputs": [],
   "source": [
    "import pandas as pd, numpy as np, sys\n",
    "try: sys.path.append('/content/AssoruleMining')\n",
    "except: pass\n",
    "from AssoruleMining import *\n",
    "from sklearn.ensemble import RandomForestClassifier\n",
    "from sklearn.tree import DecisionTreeClassifier\n",
    "from sklearn.model_selection import train_test_split as tts\n",
    "import matplotlib.pyplot as plt\n",
    "import matplotlib as mpl\n",
    "mpl.rcParams['lines.linewidth'] = 2\n",
    "mpl.rcParams['axes.spines.right'] = False\n",
    "mpl.rcParams['axes.spines.top'] = False\n",
    "mpl.rcParams['figure.figsize'] = [6.5, 4.5]\n",
    "mpl.rcParams['axes.grid'] = False"
   ]
  },
  {
   "cell_type": "code",
   "execution_count": 2,
   "metadata": {},
   "outputs": [],
   "source": [
    "X = pd.read_csv('card_transdata_10K.txt', sep=\"|\")\n",
    "y = X.pop(\"fraud\").values"
   ]
  },
  {
   "cell_type": "code",
   "execution_count": 3,
   "metadata": {},
   "outputs": [],
   "source": [
    "for var in [\"repeat_retailer\", \"used_chip\", \"used_pin_number\", \"online_order\"]:\n",
    "    X[var] = np.where(X[var]==1,\"yes\",\"no\")"
   ]
  },
  {
   "cell_type": "code",
   "execution_count": 4,
   "metadata": {},
   "outputs": [
    {
     "name": "stdout",
     "output_type": "stream",
     "text": [
      "<class 'pandas.core.frame.DataFrame'>\n",
      "RangeIndex: 10000 entries, 0 to 9999\n",
      "Data columns (total 7 columns):\n",
      " #   Column                          Non-Null Count  Dtype  \n",
      "---  ------                          --------------  -----  \n",
      " 0   distance_from_home              10000 non-null  float64\n",
      " 1   distance_from_last_transaction  10000 non-null  float64\n",
      " 2   ratio_to_median_purchase_price  10000 non-null  float64\n",
      " 3   repeat_retailer                 10000 non-null  object \n",
      " 4   used_chip                       10000 non-null  object \n",
      " 5   used_pin_number                 10000 non-null  object \n",
      " 6   online_order                    10000 non-null  object \n",
      "dtypes: float64(3), object(4)\n",
      "memory usage: 547.0+ KB\n"
     ]
    }
   ],
   "source": [
    "X.info()"
   ]
  },
  {
   "cell_type": "markdown",
   "metadata": {},
   "source": [
    "We use **`define_dtype`** to convert columns in `X` to possible dtypes which are `float32`, `int32`, `category`, and `object`. However, it ignores columns, whose dtype is either np.datetime64 or np.timedelta64."
   ]
  },
  {
   "cell_type": "code",
   "execution_count": 5,
   "metadata": {},
   "outputs": [],
   "source": [
    "X = define_dtype(X)"
   ]
  },
  {
   "cell_type": "code",
   "execution_count": 6,
   "metadata": {},
   "outputs": [
    {
     "name": "stdout",
     "output_type": "stream",
     "text": [
      "<class 'pandas.core.frame.DataFrame'>\n",
      "RangeIndex: 10000 entries, 0 to 9999\n",
      "Data columns (total 7 columns):\n",
      " #   Column                          Non-Null Count  Dtype   \n",
      "---  ------                          --------------  -----   \n",
      " 0   distance_from_home              10000 non-null  float32 \n",
      " 1   distance_from_last_transaction  10000 non-null  float32 \n",
      " 2   ratio_to_median_purchase_price  10000 non-null  float32 \n",
      " 3   repeat_retailer                 10000 non-null  category\n",
      " 4   used_chip                       10000 non-null  category\n",
      " 5   used_pin_number                 10000 non-null  category\n",
      " 6   online_order                    10000 non-null  category\n",
      "dtypes: category(4), float32(3)\n",
      "memory usage: 156.9 KB\n"
     ]
    }
   ],
   "source": [
    "X.info()"
   ]
  },
  {
   "cell_type": "markdown",
   "metadata": {
    "id": "LXL9lUApPTVk"
   },
   "source": [
    "Split data into **train**, and **test** sets [(**`train_test_split`**)](https://scikit-learn.org/stable/modules/generated/sklearn.model_selection.train_test_split.html)"
   ]
  },
  {
   "cell_type": "code",
   "execution_count": 7,
   "metadata": {
    "executionInfo": {
     "elapsed": 1402,
     "status": "ok",
     "timestamp": 1614135192095,
     "user": {
      "displayName": "Danusorn Sitdhirasdr",
      "photoUrl": "",
      "userId": "00479571870945710380"
     },
     "user_tz": -420
    },
    "id": "YGsdoNNxYO0k"
   },
   "outputs": [],
   "source": [
    "X_train, X_test, y_train, y_test = tts(X, y, test_size=0.3, shuffle=True, random_state=0)"
   ]
  },
  {
   "cell_type": "markdown",
   "metadata": {},
   "source": [
    "To discretize `X`, we use **`discretize`**."
   ]
  },
  {
   "cell_type": "code",
   "execution_count": 8,
   "metadata": {},
   "outputs": [],
   "source": [
    "discr_X1, rules1 = discretize(criterion=\"tree\", decimal=3).transform(X_train, y_train)"
   ]
  },
  {
   "cell_type": "markdown",
   "metadata": {},
   "source": [
    "## Creation of rules (1)\n",
    "- Antecedent rule is mutually exclusive to consequent rule (assumption).\n",
    "- Training samples captured by antecedent rule(s) are excluded before determining the next consequent rule.\n",
    "- This approach stops when the evaluating metric is deemed satisfactory or not improving."
   ]
  },
  {
   "cell_type": "code",
   "execution_count": 9,
   "metadata": {},
   "outputs": [
    {
     "data": {
      "application/vnd.jupyter.widget-view+json": {
       "model_id": "02814cf7fe70421eb8afbfdea14ab570",
       "version_major": 2,
       "version_minor": 0
      },
      "text/plain": [
       "HBox(children=(HTMLMath(value='Calculating . . .'), HTMLMath(value='')))"
      ]
     },
     "metadata": {},
     "output_type": "display_data"
    }
   ],
   "source": [
    "asso1 = AssoRuleMining(metric=\"f1\", operator=\"and\", n_jobs=3, n_batches=5)\\\n",
    ".fit(discr_X1, y_train, start_with=\"auto\", rules=rules1)"
   ]
  },
  {
   "cell_type": "markdown",
   "metadata": {},
   "source": [
    "**info** (attribute) : a summary table that comes in a form of `dict` with keys as column headers. It can be imported into a pandas DataFrame."
   ]
  },
  {
   "cell_type": "code",
   "execution_count": 10,
   "metadata": {
    "scrolled": true
   },
   "outputs": [
    {
     "data": {
      "text/html": [
       "<div>\n",
       "<style scoped>\n",
       "    .dataframe tbody tr th:only-of-type {\n",
       "        vertical-align: middle;\n",
       "    }\n",
       "\n",
       "    .dataframe tbody tr th {\n",
       "        vertical-align: top;\n",
       "    }\n",
       "\n",
       "    .dataframe thead th {\n",
       "        text-align: right;\n",
       "    }\n",
       "</style>\n",
       "<table border=\"1\" class=\"dataframe\">\n",
       "  <thead>\n",
       "    <tr style=\"text-align: right;\">\n",
       "      <th></th>\n",
       "      <th>start_with</th>\n",
       "      <th>variable</th>\n",
       "      <th>n_features</th>\n",
       "      <th>p_target</th>\n",
       "      <th>p_sample</th>\n",
       "      <th>f1_score</th>\n",
       "      <th>recall</th>\n",
       "      <th>precision</th>\n",
       "      <th>entropy</th>\n",
       "    </tr>\n",
       "  </thead>\n",
       "  <tbody>\n",
       "    <tr>\n",
       "      <th>4</th>\n",
       "      <td>68</td>\n",
       "      <td>62</td>\n",
       "      <td>3</td>\n",
       "      <td>0.728055</td>\n",
       "      <td>0.089000</td>\n",
       "      <td>0.702658</td>\n",
       "      <td>0.728055</td>\n",
       "      <td>0.678973</td>\n",
       "      <td>0.233162</td>\n",
       "    </tr>\n",
       "    <tr>\n",
       "      <th>40</th>\n",
       "      <td>68</td>\n",
       "      <td>32</td>\n",
       "      <td>4</td>\n",
       "      <td>0.685026</td>\n",
       "      <td>0.084571</td>\n",
       "      <td>0.678602</td>\n",
       "      <td>0.685026</td>\n",
       "      <td>0.672297</td>\n",
       "      <td>0.248461</td>\n",
       "    </tr>\n",
       "    <tr>\n",
       "      <th>30</th>\n",
       "      <td>68</td>\n",
       "      <td>11</td>\n",
       "      <td>4</td>\n",
       "      <td>0.666093</td>\n",
       "      <td>0.080429</td>\n",
       "      <td>0.676573</td>\n",
       "      <td>0.666093</td>\n",
       "      <td>0.687389</td>\n",
       "      <td>0.251472</td>\n",
       "    </tr>\n",
       "    <tr>\n",
       "      <th>23</th>\n",
       "      <td>68</td>\n",
       "      <td>33</td>\n",
       "      <td>4</td>\n",
       "      <td>0.669535</td>\n",
       "      <td>0.081857</td>\n",
       "      <td>0.674177</td>\n",
       "      <td>0.669535</td>\n",
       "      <td>0.678883</td>\n",
       "      <td>0.252028</td>\n",
       "    </tr>\n",
       "    <tr>\n",
       "      <th>29</th>\n",
       "      <td>68</td>\n",
       "      <td>10</td>\n",
       "      <td>4</td>\n",
       "      <td>0.678141</td>\n",
       "      <td>0.084143</td>\n",
       "      <td>0.673504</td>\n",
       "      <td>0.678141</td>\n",
       "      <td>0.668930</td>\n",
       "      <td>0.251277</td>\n",
       "    </tr>\n",
       "  </tbody>\n",
       "</table>\n",
       "</div>"
      ],
      "text/plain": [
       "   start_with  variable  n_features  p_target  p_sample  f1_score    recall  \\\n",
       "4          68        62           3  0.728055  0.089000  0.702658  0.728055   \n",
       "40         68        32           4  0.685026  0.084571  0.678602  0.685026   \n",
       "30         68        11           4  0.666093  0.080429  0.676573  0.666093   \n",
       "23         68        33           4  0.669535  0.081857  0.674177  0.669535   \n",
       "29         68        10           4  0.678141  0.084143  0.673504  0.678141   \n",
       "\n",
       "    precision   entropy  \n",
       "4    0.678973  0.233162  \n",
       "40   0.672297  0.248461  \n",
       "30   0.687389  0.251472  \n",
       "23   0.678883  0.252028  \n",
       "29   0.668930  0.251277  "
      ]
     },
     "execution_count": 10,
     "metadata": {},
     "output_type": "execute_result"
    }
   ],
   "source": [
    "pd.DataFrame(asso1.info).sort_values(by=[\"f1_score\",\"n_features\"], ascending=[False,True]).head()"
   ]
  },
  {
   "cell_type": "markdown",
   "metadata": {},
   "source": [
    "For this example, we focus on `f1-score`. Hence, we choose rule(s) that has the highest `f1-score` accordingly. In the case of a tie, we select `variable`, whose number of features is the lowest. This is for the sake of reducing rule complexity."
   ]
  },
  {
   "cell_type": "markdown",
   "metadata": {},
   "source": [
    "To create $1^{st}$ rule, we use **`self.transform`** to convert rules into features array."
   ]
  },
  {
   "cell_type": "code",
   "execution_count": 11,
   "metadata": {},
   "outputs": [],
   "source": [
    "rule1_index = 62\n",
    "FirstRule = asso1.transform(X_train, rule1_index)"
   ]
  },
  {
   "cell_type": "markdown",
   "metadata": {},
   "source": [
    "Use **`print_rule`** to tabulate rule information i.e. intervals."
   ]
  },
  {
   "cell_type": "code",
   "execution_count": 12,
   "metadata": {},
   "outputs": [
    {
     "name": "stdout",
     "output_type": "stream",
     "text": [
      "Operator:  and\n",
      "+------+--------------------------------+------+-------+\n",
      "| Item | Variable                       | Sign | Value |\n",
      "+------+--------------------------------+------+-------+\n",
      "|  1   | ratio_to_median_purchase_price |  >   |  3.00 |\n",
      "|  2   | used_pin_number                |  ==  |    no |\n",
      "|  3   | online_order                   |  ==  |   yes |\n",
      "+------+--------------------------------+------+-------+\n"
     ]
    }
   ],
   "source": [
    "print_rule(asso1.asso_results_[rule1_index])"
   ]
  },
  {
   "cell_type": "markdown",
   "metadata": {},
   "source": [
    "Before determining next rule, we exclude only instances that meet the $1^{st}$ rule."
   ]
  },
  {
   "cell_type": "code",
   "execution_count": 13,
   "metadata": {},
   "outputs": [],
   "source": [
    "index = FirstRule.values.ravel()\n",
    "X2 = X_train.loc[~index] \n",
    "y2 = y_train[~index]"
   ]
  },
  {
   "cell_type": "code",
   "execution_count": 14,
   "metadata": {},
   "outputs": [],
   "source": [
    "discr_X2, rules2 = discretize(criterion=\"tree\", decimal=3).transform(X2, y2)"
   ]
  },
  {
   "cell_type": "code",
   "execution_count": 15,
   "metadata": {},
   "outputs": [
    {
     "data": {
      "application/vnd.jupyter.widget-view+json": {
       "model_id": "acad4111e0d143e2a92d46d046edbe3e",
       "version_major": 2,
       "version_minor": 0
      },
      "text/plain": [
       "HBox(children=(HTMLMath(value='Calculating . . .'), HTMLMath(value='')))"
      ]
     },
     "metadata": {},
     "output_type": "display_data"
    }
   ],
   "source": [
    "asso2 = AssoRuleMining(metric=\"f1\", operator=\"and\", n_jobs=3, n_batches=5)\\\n",
    ".fit(discr_X2, y2, start_with=\"auto\", rules=rules2)"
   ]
  },
  {
   "cell_type": "code",
   "execution_count": 16,
   "metadata": {},
   "outputs": [
    {
     "data": {
      "text/html": [
       "<div>\n",
       "<style scoped>\n",
       "    .dataframe tbody tr th:only-of-type {\n",
       "        vertical-align: middle;\n",
       "    }\n",
       "\n",
       "    .dataframe tbody tr th {\n",
       "        vertical-align: top;\n",
       "    }\n",
       "\n",
       "    .dataframe thead th {\n",
       "        text-align: right;\n",
       "    }\n",
       "</style>\n",
       "<table border=\"1\" class=\"dataframe\">\n",
       "  <thead>\n",
       "    <tr style=\"text-align: right;\">\n",
       "      <th></th>\n",
       "      <th>start_with</th>\n",
       "      <th>variable</th>\n",
       "      <th>n_features</th>\n",
       "      <th>p_target</th>\n",
       "      <th>p_sample</th>\n",
       "      <th>f1_score</th>\n",
       "      <th>recall</th>\n",
       "      <th>precision</th>\n",
       "      <th>entropy</th>\n",
       "    </tr>\n",
       "  </thead>\n",
       "  <tbody>\n",
       "    <tr>\n",
       "      <th>2</th>\n",
       "      <td>62</td>\n",
       "      <td>64</td>\n",
       "      <td>4</td>\n",
       "      <td>0.645570</td>\n",
       "      <td>0.017249</td>\n",
       "      <td>0.761194</td>\n",
       "      <td>0.645570</td>\n",
       "      <td>0.927273</td>\n",
       "      <td>0.078868</td>\n",
       "    </tr>\n",
       "    <tr>\n",
       "      <th>42</th>\n",
       "      <td>62</td>\n",
       "      <td>23</td>\n",
       "      <td>5</td>\n",
       "      <td>0.620253</td>\n",
       "      <td>0.016465</td>\n",
       "      <td>0.745247</td>\n",
       "      <td>0.620253</td>\n",
       "      <td>0.933333</td>\n",
       "      <td>0.082440</td>\n",
       "    </tr>\n",
       "    <tr>\n",
       "      <th>15</th>\n",
       "      <td>62</td>\n",
       "      <td>46</td>\n",
       "      <td>5</td>\n",
       "      <td>0.613924</td>\n",
       "      <td>0.016465</td>\n",
       "      <td>0.737643</td>\n",
       "      <td>0.613924</td>\n",
       "      <td>0.923810</td>\n",
       "      <td>0.084068</td>\n",
       "    </tr>\n",
       "    <tr>\n",
       "      <th>14</th>\n",
       "      <td>62</td>\n",
       "      <td>44</td>\n",
       "      <td>5</td>\n",
       "      <td>0.601266</td>\n",
       "      <td>0.016152</td>\n",
       "      <td>0.727969</td>\n",
       "      <td>0.601266</td>\n",
       "      <td>0.922330</td>\n",
       "      <td>0.086121</td>\n",
       "    </tr>\n",
       "    <tr>\n",
       "      <th>16</th>\n",
       "      <td>62</td>\n",
       "      <td>47</td>\n",
       "      <td>5</td>\n",
       "      <td>0.594937</td>\n",
       "      <td>0.015995</td>\n",
       "      <td>0.723077</td>\n",
       "      <td>0.594937</td>\n",
       "      <td>0.921569</td>\n",
       "      <td>0.087142</td>\n",
       "    </tr>\n",
       "  </tbody>\n",
       "</table>\n",
       "</div>"
      ],
      "text/plain": [
       "   start_with  variable  n_features  p_target  p_sample  f1_score    recall  \\\n",
       "2          62        64           4  0.645570  0.017249  0.761194  0.645570   \n",
       "42         62        23           5  0.620253  0.016465  0.745247  0.620253   \n",
       "15         62        46           5  0.613924  0.016465  0.737643  0.613924   \n",
       "14         62        44           5  0.601266  0.016152  0.727969  0.601266   \n",
       "16         62        47           5  0.594937  0.015995  0.723077  0.594937   \n",
       "\n",
       "    precision   entropy  \n",
       "2    0.927273  0.078868  \n",
       "42   0.933333  0.082440  \n",
       "15   0.923810  0.084068  \n",
       "14   0.922330  0.086121  \n",
       "16   0.921569  0.087142  "
      ]
     },
     "execution_count": 16,
     "metadata": {},
     "output_type": "execute_result"
    }
   ],
   "source": [
    "pd.DataFrame(asso2.info).sort_values(by=[\"f1_score\",\"n_features\"], ascending=[False,True]).head(5)"
   ]
  },
  {
   "cell_type": "markdown",
   "metadata": {},
   "source": [
    "Create $2^{nd}$ rule"
   ]
  },
  {
   "cell_type": "code",
   "execution_count": 17,
   "metadata": {},
   "outputs": [
    {
     "name": "stdout",
     "output_type": "stream",
     "text": [
      "Operator:  and\n",
      "+------+--------------------+------+-------+\n",
      "| Item | Variable           | Sign | Value |\n",
      "+------+--------------------+------+-------+\n",
      "|  1   | used_pin_number    |  ==  |    no |\n",
      "|  2   | online_order       |  ==  |   yes |\n",
      "|  3   | distance_from_home |  >   | 95.06 |\n",
      "|  4   | used_chip          |  ==  |    no |\n",
      "+------+--------------------+------+-------+\n"
     ]
    }
   ],
   "source": [
    "rule2_index = 64\n",
    "SecondRule = asso2.transform(X_train, rule2_index) \n",
    "print_rule(asso2.asso_results_[rule2_index])"
   ]
  },
  {
   "cell_type": "markdown",
   "metadata": {},
   "source": [
    "Summary on `X_train`"
   ]
  },
  {
   "cell_type": "code",
   "execution_count": 18,
   "metadata": {},
   "outputs": [
    {
     "name": "stdout",
     "output_type": "stream",
     "text": [
      "Correlation between 1st and 2nd rules : 3.78%\n"
     ]
    }
   ],
   "source": [
    "corr = np.corrcoef(np.hstack((FirstRule.values, SecondRule.values)).T)[0,1]\n",
    "print(\"Correlation between 1st and 2nd rules : {:.2%}\".format(corr))"
   ]
  },
  {
   "cell_type": "markdown",
   "metadata": {},
   "source": [
    "Since the correlation is insignificant i.e. 3.78%, we will ignore adding the negation of the first rule to the second rule."
   ]
  },
  {
   "cell_type": "code",
   "execution_count": 19,
   "metadata": {},
   "outputs": [
    {
     "name": "stdout",
     "output_type": "stream",
     "text": [
      "+----------------+-------+-------+\n",
      "| Statistics     | Value |     % |\n",
      "+----------------+-------+-------+\n",
      "| N              | 7,000 |       |\n",
      "| Target         |   581 |  8.3% |\n",
      "| True Positive  |   525 |  7.5% |\n",
      "| True Negative  | 6,211 | 88.7% |\n",
      "| False Positive |   208 |  3.0% |\n",
      "| False Negative |    56 |  0.8% |\n",
      "| Precision      |       | 71.6% |\n",
      "| Recall         |       | 90.4% |\n",
      "| Accuracy       |       | 96.2% |\n",
      "| F1-Score       |       | 79.9% |\n",
      "+----------------+-------+-------+\n"
     ]
    }
   ],
   "source": [
    "y_pred_train = (FirstRule.values | \n",
    "                SecondRule.values)\n",
    "print_stats(y_train, y_pred_train)"
   ]
  },
  {
   "cell_type": "markdown",
   "metadata": {},
   "source": [
    "Summary on `X_test`"
   ]
  },
  {
   "cell_type": "code",
   "execution_count": 20,
   "metadata": {},
   "outputs": [
    {
     "name": "stdout",
     "output_type": "stream",
     "text": [
      "+----------------+-------+-----+\n",
      "| Statistics     | Value |   % |\n",
      "+----------------+-------+-----+\n",
      "| N              | 3,000 |     |\n",
      "| Target         |   258 |  9% |\n",
      "| True Positive  |   217 |  7% |\n",
      "| True Negative  | 2,625 | 88% |\n",
      "| False Positive |   117 |  4% |\n",
      "| False Negative |    41 |  1% |\n",
      "| Precision      |       | 65% |\n",
      "| Recall         |       | 84% |\n",
      "| Accuracy       |       | 95% |\n",
      "| F1-Score       |       | 73% |\n",
      "+----------------+-------+-----+\n"
     ]
    }
   ],
   "source": [
    "y_pred_test = (asso1.transform(X_test, rule1_index).values | \n",
    "               asso2.transform(X_test, rule2_index).values)\n",
    "print_stats(y_test, y_pred_test, 0)"
   ]
  },
  {
   "cell_type": "markdown",
   "metadata": {},
   "source": [
    "Alternatively, we can use **`evaluate_rules`** to evaluate all datasets at the same time."
   ]
  },
  {
   "cell_type": "code",
   "execution_count": 21,
   "metadata": {},
   "outputs": [
    {
     "data": {
      "text/plain": [
       "EvalResults(sample=[7000, 3000], target=[581, 258], tp=[525, 217], fp=[208, 117], fn=[56, 41], tn=[6211, 2625], recall=[0.9036144578313253, 0.8410852713178295], precision=[0.7162346521145976, 0.6497005988023952], f1=[0.7990867579908677, 0.7331081081081082], accuracy=[0.9622857142857143, 0.9473333333333334])"
      ]
     },
     "execution_count": 21,
     "metadata": {},
     "output_type": "execute_result"
    }
   ],
   "source": [
    "rules=[asso1.asso_results_[rule1_index], \n",
    "       asso2.asso_results_[rule2_index]]\n",
    "evaluate_rules([(X_train,y_train), \n",
    "                (X_test ,y_test)], rules=rules, operator=\"or\")"
   ]
  },
  {
   "cell_type": "markdown",
   "metadata": {},
   "source": [
    "## Creation of rules (2)\n",
    "- Convert all rules into features.\n",
    "- Determine combinations of rules that optimize the evaluating metric. This can be used as validation of rules."
   ]
  },
  {
   "cell_type": "markdown",
   "metadata": {},
   "source": [
    "Selecting variables that capture target more than `x`% helps in reducing features, whose impact is insignificant. For this example, we use 10%."
   ]
  },
  {
   "cell_type": "code",
   "execution_count": 22,
   "metadata": {},
   "outputs": [],
   "source": [
    "which_rules = np.array(asso1.info[\"variable\"])[np.array(asso1.info[\"p_target\"])>0.01]\n",
    "discr_X3, rules3 = asso1.transform(X_train, which_rules, return_rules=True)"
   ]
  },
  {
   "cell_type": "code",
   "execution_count": 23,
   "metadata": {},
   "outputs": [
    {
     "data": {
      "application/vnd.jupyter.widget-view+json": {
       "model_id": "20b66c9d7d064574b838c5431dcfc109",
       "version_major": 2,
       "version_minor": 0
      },
      "text/plain": [
       "HBox(children=(HTMLMath(value='Calculating . . .'), HTMLMath(value='')))"
      ]
     },
     "metadata": {},
     "output_type": "display_data"
    }
   ],
   "source": [
    "asso3 = AssoRuleMining(metric=\"f1\", operator=\"or\", n_jobs=4, n_batches=5)\\\n",
    ".fit(discr_X3, y_train, start_with=\"auto\", rules=rules3)"
   ]
  },
  {
   "cell_type": "code",
   "execution_count": 24,
   "metadata": {
    "scrolled": false
   },
   "outputs": [
    {
     "data": {
      "text/html": [
       "<div>\n",
       "<style scoped>\n",
       "    .dataframe tbody tr th:only-of-type {\n",
       "        vertical-align: middle;\n",
       "    }\n",
       "\n",
       "    .dataframe tbody tr th {\n",
       "        vertical-align: top;\n",
       "    }\n",
       "\n",
       "    .dataframe thead th {\n",
       "        text-align: right;\n",
       "    }\n",
       "</style>\n",
       "<table border=\"1\" class=\"dataframe\">\n",
       "  <thead>\n",
       "    <tr style=\"text-align: right;\">\n",
       "      <th></th>\n",
       "      <th>start_with</th>\n",
       "      <th>variable</th>\n",
       "      <th>n_features</th>\n",
       "      <th>p_target</th>\n",
       "      <th>p_sample</th>\n",
       "      <th>f1_score</th>\n",
       "      <th>recall</th>\n",
       "      <th>precision</th>\n",
       "      <th>entropy</th>\n",
       "    </tr>\n",
       "  </thead>\n",
       "  <tbody>\n",
       "    <tr>\n",
       "      <th>0</th>\n",
       "      <td>44</td>\n",
       "      <td>69</td>\n",
       "      <td>4</td>\n",
       "      <td>0.924269</td>\n",
       "      <td>0.107000</td>\n",
       "      <td>0.807519</td>\n",
       "      <td>0.924269</td>\n",
       "      <td>0.716956</td>\n",
       "      <td>0.145956</td>\n",
       "    </tr>\n",
       "    <tr>\n",
       "      <th>2</th>\n",
       "      <td>44</td>\n",
       "      <td>0</td>\n",
       "      <td>5</td>\n",
       "      <td>0.941480</td>\n",
       "      <td>0.111143</td>\n",
       "      <td>0.805004</td>\n",
       "      <td>0.941480</td>\n",
       "      <td>0.703085</td>\n",
       "      <td>0.141019</td>\n",
       "    </tr>\n",
       "    <tr>\n",
       "      <th>1</th>\n",
       "      <td>44</td>\n",
       "      <td>64</td>\n",
       "      <td>5</td>\n",
       "      <td>0.946644</td>\n",
       "      <td>0.112714</td>\n",
       "      <td>0.802920</td>\n",
       "      <td>0.946644</td>\n",
       "      <td>0.697085</td>\n",
       "      <td>0.139968</td>\n",
       "    </tr>\n",
       "  </tbody>\n",
       "</table>\n",
       "</div>"
      ],
      "text/plain": [
       "  start_with  variable  n_features  p_target  p_sample  f1_score    recall  \\\n",
       "0         44        69           4  0.924269  0.107000  0.807519  0.924269   \n",
       "2         44         0           5  0.941480  0.111143  0.805004  0.941480   \n",
       "1         44        64           5  0.946644  0.112714  0.802920  0.946644   \n",
       "\n",
       "   precision   entropy  \n",
       "0   0.716956  0.145956  \n",
       "2   0.703085  0.141019  \n",
       "1   0.697085  0.139968  "
      ]
     },
     "execution_count": 24,
     "metadata": {},
     "output_type": "execute_result"
    }
   ],
   "source": [
    "pd.DataFrame(asso3.info).sort_values(by=[\"f1_score\", \"n_features\"], ascending=[False, True]).head(5)"
   ]
  },
  {
   "cell_type": "markdown",
   "metadata": {},
   "source": [
    "We select rule set from `70` due to low correlations between rules."
   ]
  },
  {
   "cell_type": "code",
   "execution_count": 25,
   "metadata": {},
   "outputs": [
    {
     "data": {
      "text/html": [
       "<div>\n",
       "<style scoped>\n",
       "    .dataframe tbody tr th:only-of-type {\n",
       "        vertical-align: middle;\n",
       "    }\n",
       "\n",
       "    .dataframe tbody tr th {\n",
       "        vertical-align: top;\n",
       "    }\n",
       "\n",
       "    .dataframe thead th {\n",
       "        text-align: right;\n",
       "    }\n",
       "</style>\n",
       "<table border=\"1\" class=\"dataframe\">\n",
       "  <thead>\n",
       "    <tr style=\"text-align: right;\">\n",
       "      <th></th>\n",
       "      <th>21</th>\n",
       "      <th>44</th>\n",
       "      <th>62</th>\n",
       "      <th>69</th>\n",
       "    </tr>\n",
       "  </thead>\n",
       "  <tbody>\n",
       "    <tr>\n",
       "      <th>21</th>\n",
       "      <td>1.00</td>\n",
       "      <td>0.25</td>\n",
       "      <td>0.04</td>\n",
       "      <td>-0.01</td>\n",
       "    </tr>\n",
       "    <tr>\n",
       "      <th>44</th>\n",
       "      <td>0.25</td>\n",
       "      <td>1.00</td>\n",
       "      <td>-0.01</td>\n",
       "      <td>-0.00</td>\n",
       "    </tr>\n",
       "    <tr>\n",
       "      <th>62</th>\n",
       "      <td>0.04</td>\n",
       "      <td>-0.01</td>\n",
       "      <td>1.00</td>\n",
       "      <td>-0.02</td>\n",
       "    </tr>\n",
       "    <tr>\n",
       "      <th>69</th>\n",
       "      <td>-0.01</td>\n",
       "      <td>-0.00</td>\n",
       "      <td>-0.02</td>\n",
       "      <td>1.00</td>\n",
       "    </tr>\n",
       "  </tbody>\n",
       "</table>\n",
       "</div>"
      ],
      "text/plain": [
       "      21    44    62    69\n",
       "21  1.00  0.25  0.04 -0.01\n",
       "44  0.25  1.00 -0.01 -0.00\n",
       "62  0.04 -0.01  1.00 -0.02\n",
       "69 -0.01 -0.00 -0.02  1.00"
      ]
     },
     "execution_count": 25,
     "metadata": {},
     "output_type": "execute_result"
    }
   ],
   "source": [
    "rule3_index = 69\n",
    "# Get sub rules in rule3_index\n",
    "selected_rules = asso3.asso_results_[rule3_index].features\n",
    "np.round(asso1.transform(X_train, selected_rules).corr(), 2)"
   ]
  },
  {
   "cell_type": "markdown",
   "metadata": {},
   "source": [
    "See all selected rules and their subrules."
   ]
  },
  {
   "cell_type": "code",
   "execution_count": 26,
   "metadata": {},
   "outputs": [
    {
     "name": "stdout",
     "output_type": "stream",
     "text": [
      "Rule number:  44\n",
      "Operator:  and\n",
      "+------+--------------------------------+------+-------+\n",
      "| Item | Variable                       | Sign | Value |\n",
      "+------+--------------------------------+------+-------+\n",
      "|  1   | ratio_to_median_purchase_price |  <=  |  0.24 |\n",
      "|  2   | used_pin_number                |  ==  |    no |\n",
      "|  3   | distance_from_home             |  >   | 95.99 |\n",
      "|  4   | used_chip                      |  ==  |    no |\n",
      "|  5   | online_order                   |  ==  |   yes |\n",
      "+------+--------------------------------+------+-------+\n",
      "\n",
      "Rule number:  69\n",
      "Operator:  and\n",
      "+------+--------------------------------+------+-------+\n",
      "| Item | Variable                       | Sign | Value |\n",
      "+------+--------------------------------+------+-------+\n",
      "|  1   | used_pin_number                |  ==  |    no |\n",
      "|  2   | online_order                   |  ==  |    no |\n",
      "|  3   | ratio_to_median_purchase_price |  >   |  3.00 |\n",
      "|  4   | distance_from_home             |  >   | 95.99 |\n",
      "|  5   | distance_from_last_transaction |  <=  |  9.17 |\n",
      "+------+--------------------------------+------+-------+\n",
      "\n",
      "Rule number:  62\n",
      "Operator:  and\n",
      "+------+--------------------------------+------+-------+\n",
      "| Item | Variable                       | Sign | Value |\n",
      "+------+--------------------------------+------+-------+\n",
      "|  1   | ratio_to_median_purchase_price |  >   |  3.00 |\n",
      "|  2   | used_pin_number                |  ==  |    no |\n",
      "|  3   | online_order                   |  ==  |   yes |\n",
      "+------+--------------------------------+------+-------+\n",
      "\n",
      "Rule number:  21\n",
      "Operator:  and\n",
      "+------+--------------------+------+-------+\n",
      "| Item | Variable           | Sign | Value |\n",
      "+------+--------------------+------+-------+\n",
      "|  1   | distance_from_home |  >   | 95.99 |\n",
      "|  2   | used_pin_number    |  ==  |    no |\n",
      "|  3   | online_order       |  ==  |   yes |\n",
      "|  4   | used_chip          |  ==  |    no |\n",
      "+------+--------------------+------+-------+\n",
      "\n"
     ]
    }
   ],
   "source": [
    "for n,r in zip(asso3.asso_results_[rule3_index].features,\n",
    "               asso3.asso_results_[rule3_index].rule):\n",
    "    print(\"Rule number: \",n)\n",
    "    print_rule(r)\n",
    "    print()"
   ]
  },
  {
   "cell_type": "markdown",
   "metadata": {},
   "source": [
    "Summary on `X_train`"
   ]
  },
  {
   "cell_type": "code",
   "execution_count": 27,
   "metadata": {},
   "outputs": [
    {
     "name": "stdout",
     "output_type": "stream",
     "text": [
      "+----------------+-------+-------+\n",
      "| Statistics     | Value |     % |\n",
      "+----------------+-------+-------+\n",
      "| N              | 7,000 |       |\n",
      "| Target         |   581 |  8.3% |\n",
      "| True Positive  |   537 |  7.7% |\n",
      "| True Negative  | 6,207 | 88.7% |\n",
      "| False Positive |   212 |  3.0% |\n",
      "| False Negative |    44 |  0.6% |\n",
      "| Precision      |       | 71.7% |\n",
      "| Recall         |       | 92.4% |\n",
      "| Accuracy       |       | 96.3% |\n",
      "| F1-Score       |       | 80.8% |\n",
      "+----------------+-------+-------+\n"
     ]
    }
   ],
   "source": [
    "y_pred_train = asso3.transform(X_train, rule3_index)\n",
    "print_stats(y_train, y_pred_train)"
   ]
  },
  {
   "cell_type": "markdown",
   "metadata": {},
   "source": [
    "Summary on `X_test`"
   ]
  },
  {
   "cell_type": "code",
   "execution_count": 28,
   "metadata": {},
   "outputs": [
    {
     "name": "stdout",
     "output_type": "stream",
     "text": [
      "+----------------+-------+-------+\n",
      "| Statistics     | Value |     % |\n",
      "+----------------+-------+-------+\n",
      "| N              | 3,000 |       |\n",
      "| Target         |   258 |  8.6% |\n",
      "| True Positive  |   223 |  7.4% |\n",
      "| True Negative  | 2,622 | 87.4% |\n",
      "| False Positive |   120 |  4.0% |\n",
      "| False Negative |    35 |  1.2% |\n",
      "| Precision      |       | 65.0% |\n",
      "| Recall         |       | 86.4% |\n",
      "| Accuracy       |       | 94.8% |\n",
      "| F1-Score       |       | 74.2% |\n",
      "+----------------+-------+-------+\n"
     ]
    }
   ],
   "source": [
    "y_pred_test = asso3.transform(X_test, rule3_index)\n",
    "print_stats(y_test, y_pred_test)"
   ]
  },
  {
   "cell_type": "code",
   "execution_count": 29,
   "metadata": {},
   "outputs": [
    {
     "data": {
      "text/plain": [
       "EvalResults(sample=[7000, 3000], target=[581, 258], tp=[537, 223], fp=[212, 120], fn=[44, 35], tn=[6207, 2622], recall=[0.9242685025817556, 0.8643410852713178], precision=[0.7169559412550067, 0.6501457725947521], f1=[0.8075187969924813, 0.7420965058236272], accuracy=[0.9634285714285714, 0.9483333333333334])"
      ]
     },
     "execution_count": 29,
     "metadata": {},
     "output_type": "execute_result"
    }
   ],
   "source": [
    "rules = [asso3.asso_results_[n] for n in selected_rules]\n",
    "evaluate_rules([(X_train,y_train), \n",
    "                (X_test ,y_test)], rules=rules, operator=\"or\")"
   ]
  },
  {
   "cell_type": "markdown",
   "metadata": {},
   "source": [
    "## Creation of rules (3)\n",
    "- Create set of rules of your choice."
   ]
  },
  {
   "cell_type": "code",
   "execution_count": 30,
   "metadata": {},
   "outputs": [],
   "source": [
    "subrules = [('ratio_to_median_purchase_price', '>=', 4.065), \n",
    "            ('online_order', '==', 'yes'), \n",
    "            ('used_pin_number', '==', 'no')]\n",
    "rule1 = create_rule(subrules, 'and')"
   ]
  },
  {
   "cell_type": "code",
   "execution_count": 31,
   "metadata": {},
   "outputs": [],
   "source": [
    "subrules = [('distance_from_home', '>=', 96.4349), \n",
    "            ('used_chip', '==', 'no'), \n",
    "            ('online_order', '==', 'yes'), \n",
    "            ('used_pin_number', '==', 'no')]\n",
    "rule2 = create_rule(subrules, 'and')"
   ]
  },
  {
   "cell_type": "code",
   "execution_count": 32,
   "metadata": {},
   "outputs": [
    {
     "data": {
      "text/plain": [
       "EvalResults(sample=[7000, 3000], target=[581, 258], tp=[513, 211], fp=[7, 0], fn=[68, 47], tn=[6412, 2742], recall=[0.882960413080895, 0.8178294573643411], precision=[0.9865384615384616, 1.0], f1=[0.9318801089918256, 0.8997867803837952], accuracy=[0.9892857142857143, 0.9843333333333333])"
      ]
     },
     "execution_count": 32,
     "metadata": {},
     "output_type": "execute_result"
    }
   ],
   "source": [
    "evaluate_rules([(X_train,y_train), \n",
    "                (X_test ,y_test)], \n",
    "               rules=[rule1, rule2], operator=\"or\")"
   ]
  },
  {
   "cell_type": "markdown",
   "metadata": {},
   "source": [
    "## Creation of rules (4)\n",
    "- Extract paths in each tree and turn them into features using **`GetDecisionPaths`**\n",
    "- Determine combinations of rules that optimize the evaluating metric. This can be used as validation of rules."
   ]
  },
  {
   "cell_type": "markdown",
   "metadata": {},
   "source": [
    "Convert categorical to numerical variable."
   ]
  },
  {
   "cell_type": "code",
   "execution_count": 33,
   "metadata": {},
   "outputs": [],
   "source": [
    "from sklearn.preprocessing import OneHotEncoder\n",
    "from itertools import product\n",
    "cat = [\"repeat_retailer\",\"used_chip\", \"used_pin_number\", \"online_order\"]\n",
    "enc = OneHotEncoder(handle_unknown='ignore').fit(X[cat])\n",
    "columns = [\"_\".join(n) for c,v in zip(cat,enc.categories_) \n",
    "           for n in list(product([c],v))]"
   ]
  },
  {
   "cell_type": "code",
   "execution_count": 34,
   "metadata": {},
   "outputs": [],
   "source": [
    "cat_df = pd.DataFrame(enc.transform(X[cat]).toarray(), columns=columns)\n",
    "cat_X  = X.drop(columns=cat).merge(cat_df, left_index=True, right_index=True)"
   ]
  },
  {
   "cell_type": "code",
   "execution_count": 35,
   "metadata": {},
   "outputs": [],
   "source": [
    "Xt_train, Xt_test, yt_train, yt_test = tts(cat_X, y, test_size=0.3, shuffle=True, random_state=0)"
   ]
  },
  {
   "cell_type": "markdown",
   "metadata": {},
   "source": [
    "**`RandomForestClassifier`** is recommended as it can generate a large number of relatively uncorrelatd paths."
   ]
  },
  {
   "cell_type": "code",
   "execution_count": 36,
   "metadata": {},
   "outputs": [],
   "source": [
    "kwds = dict(n_estimators=10,\n",
    "            max_depth=7,  \n",
    "            min_samples_leaf=0.01,\n",
    "            max_features=\"sqrt\", \n",
    "            random_state=0, \n",
    "            bootstrap=True)\n",
    "Tree = RandomForestClassifier(**kwds).fit(Xt_train, yt_train)"
   ]
  },
  {
   "cell_type": "markdown",
   "metadata": {},
   "source": [
    "**`GetDecisionPaths`** retrieves all decision paths contained in sklearn base estimator (DecisionTreeRegressor or DecisionTreeClassifier)."
   ]
  },
  {
   "cell_type": "code",
   "execution_count": 37,
   "metadata": {},
   "outputs": [],
   "source": [
    "paths = GetDecisionPaths().fit(Tree, list(Xt_train))"
   ]
  },
  {
   "cell_type": "markdown",
   "metadata": {},
   "source": [
    "**`self.decision_paths`** (attribute) is a dictionary with keys as `tree{tree_id}_{leaf_node_id}`, that stores all selected paths. All outputs are arranged according to node id (from root to leaf node)."
   ]
  },
  {
   "cell_type": "code",
   "execution_count": 38,
   "metadata": {},
   "outputs": [
    {
     "data": {
      "text/plain": [
       "Results(metric='gini', operator='and', n_targets=array([560, 127, 100, 100]), n_samples=array([4398, 3950, 3880,  173]), p_target=array([0.1273306 , 0.02887676, 0.02273761, 0.02273761]), p_sample=array([1.        , 0.89813552, 0.88221919, 0.03933606]), recall=array([1.        , 0.22678571, 0.17857143, 0.17857143]), precision=array([0.1273306 , 0.0321519 , 0.0257732 , 0.57803468]), f1_score=array([0.22589754, 0.01458318, 0.00920471, 0.20644096]), impurity=array([0.1472    , 0.03967743, 0.03192517, 0.46280992]), rule=[('ratio_to_median_purchase_price', '<=', 4.000312566757202), ('distance_from_last_transaction', '<=', 38.10727119445801), ('distance_from_home', '>', 100.3093147277832)])"
      ]
     },
     "execution_count": 38,
     "metadata": {},
     "output_type": "execute_result"
    }
   ],
   "source": [
    "paths.decision_paths['T0-4']"
   ]
  },
  {
   "cell_type": "markdown",
   "metadata": {},
   "source": [
    "Use **`self.transform`** to convert rules to features."
   ]
  },
  {
   "cell_type": "code",
   "execution_count": 39,
   "metadata": {},
   "outputs": [],
   "source": [
    "X_converted, tree_rules = paths.transform(Xt_train, return_rules=True)"
   ]
  },
  {
   "cell_type": "code",
   "execution_count": 40,
   "metadata": {},
   "outputs": [
    {
     "data": {
      "text/plain": [
       "(7000, 86)"
      ]
     },
     "execution_count": 40,
     "metadata": {},
     "output_type": "execute_result"
    }
   ],
   "source": [
    "X_converted.shape"
   ]
  },
  {
   "cell_type": "code",
   "execution_count": 41,
   "metadata": {},
   "outputs": [
    {
     "data": {
      "application/vnd.jupyter.widget-view+json": {
       "model_id": "df0331feca764e5f824cc9ec1d3804cd",
       "version_major": 2,
       "version_minor": 0
      },
      "text/plain": [
       "HBox(children=(HTMLMath(value='Calculating . . .'), HTMLMath(value='')))"
      ]
     },
     "metadata": {},
     "output_type": "display_data"
    }
   ],
   "source": [
    "asso4 = AssoRuleMining(metric=\"precision\", operator=\"or\", n_jobs=4, n_batches=5)\\\n",
    ".fit(X_converted, yt_train, rules=tree_rules)"
   ]
  },
  {
   "cell_type": "code",
   "execution_count": 42,
   "metadata": {
    "scrolled": true
   },
   "outputs": [
    {
     "data": {
      "text/html": [
       "<div>\n",
       "<style scoped>\n",
       "    .dataframe tbody tr th:only-of-type {\n",
       "        vertical-align: middle;\n",
       "    }\n",
       "\n",
       "    .dataframe tbody tr th {\n",
       "        vertical-align: top;\n",
       "    }\n",
       "\n",
       "    .dataframe thead th {\n",
       "        text-align: right;\n",
       "    }\n",
       "</style>\n",
       "<table border=\"1\" class=\"dataframe\">\n",
       "  <thead>\n",
       "    <tr style=\"text-align: right;\">\n",
       "      <th></th>\n",
       "      <th>start_with</th>\n",
       "      <th>variable</th>\n",
       "      <th>n_features</th>\n",
       "      <th>p_target</th>\n",
       "      <th>p_sample</th>\n",
       "      <th>f1_score</th>\n",
       "      <th>recall</th>\n",
       "      <th>precision</th>\n",
       "      <th>entropy</th>\n",
       "    </tr>\n",
       "  </thead>\n",
       "  <tbody>\n",
       "    <tr>\n",
       "      <th>34</th>\n",
       "      <td>None</td>\n",
       "      <td>T8-13</td>\n",
       "      <td>4</td>\n",
       "      <td>0.925990</td>\n",
       "      <td>0.080571</td>\n",
       "      <td>0.939738</td>\n",
       "      <td>0.925990</td>\n",
       "      <td>0.953901</td>\n",
       "      <td>0.074940</td>\n",
       "    </tr>\n",
       "    <tr>\n",
       "      <th>11</th>\n",
       "      <td>None</td>\n",
       "      <td>T4-17</td>\n",
       "      <td>4</td>\n",
       "      <td>0.898451</td>\n",
       "      <td>0.077571</td>\n",
       "      <td>0.928826</td>\n",
       "      <td>0.898451</td>\n",
       "      <td>0.961326</td>\n",
       "      <td>0.087520</td>\n",
       "    </tr>\n",
       "    <tr>\n",
       "      <th>6</th>\n",
       "      <td>None</td>\n",
       "      <td>T3-17</td>\n",
       "      <td>4</td>\n",
       "      <td>0.874355</td>\n",
       "      <td>0.074000</td>\n",
       "      <td>0.924477</td>\n",
       "      <td>0.874355</td>\n",
       "      <td>0.980695</td>\n",
       "      <td>0.092635</td>\n",
       "    </tr>\n",
       "    <tr>\n",
       "      <th>23</th>\n",
       "      <td>None</td>\n",
       "      <td>T6-15</td>\n",
       "      <td>4</td>\n",
       "      <td>0.882960</td>\n",
       "      <td>0.075714</td>\n",
       "      <td>0.923492</td>\n",
       "      <td>0.882960</td>\n",
       "      <td>0.967925</td>\n",
       "      <td>0.093282</td>\n",
       "    </tr>\n",
       "    <tr>\n",
       "      <th>24</th>\n",
       "      <td>None</td>\n",
       "      <td>T0-10</td>\n",
       "      <td>4</td>\n",
       "      <td>0.881239</td>\n",
       "      <td>0.075571</td>\n",
       "      <td>0.922523</td>\n",
       "      <td>0.881239</td>\n",
       "      <td>0.967864</td>\n",
       "      <td>0.094213</td>\n",
       "    </tr>\n",
       "  </tbody>\n",
       "</table>\n",
       "</div>"
      ],
      "text/plain": [
       "   start_with variable  n_features  p_target  p_sample  f1_score    recall  \\\n",
       "34       None    T8-13           4  0.925990  0.080571  0.939738  0.925990   \n",
       "11       None    T4-17           4  0.898451  0.077571  0.928826  0.898451   \n",
       "6        None    T3-17           4  0.874355  0.074000  0.924477  0.874355   \n",
       "23       None    T6-15           4  0.882960  0.075714  0.923492  0.882960   \n",
       "24       None    T0-10           4  0.881239  0.075571  0.922523  0.881239   \n",
       "\n",
       "    precision   entropy  \n",
       "34   0.953901  0.074940  \n",
       "11   0.961326  0.087520  \n",
       "6    0.980695  0.092635  \n",
       "23   0.967925  0.093282  \n",
       "24   0.967864  0.094213  "
      ]
     },
     "execution_count": 42,
     "metadata": {},
     "output_type": "execute_result"
    }
   ],
   "source": [
    "pd.DataFrame(asso4.info).sort_values(by=[\"f1_score\",\"n_features\"], ascending=[False,True]).head()"
   ]
  },
  {
   "cell_type": "markdown",
   "metadata": {},
   "source": [
    "We select rule set from `T8-13` due to low correlations between rules."
   ]
  },
  {
   "cell_type": "code",
   "execution_count": 43,
   "metadata": {},
   "outputs": [
    {
     "data": {
      "text/html": [
       "<div>\n",
       "<style scoped>\n",
       "    .dataframe tbody tr th:only-of-type {\n",
       "        vertical-align: middle;\n",
       "    }\n",
       "\n",
       "    .dataframe tbody tr th {\n",
       "        vertical-align: top;\n",
       "    }\n",
       "\n",
       "    .dataframe thead th {\n",
       "        text-align: right;\n",
       "    }\n",
       "</style>\n",
       "<table border=\"1\" class=\"dataframe\">\n",
       "  <thead>\n",
       "    <tr style=\"text-align: right;\">\n",
       "      <th></th>\n",
       "      <th>T2-12</th>\n",
       "      <th>T2-13</th>\n",
       "      <th>T2-22</th>\n",
       "      <th>T8-13</th>\n",
       "    </tr>\n",
       "  </thead>\n",
       "  <tbody>\n",
       "    <tr>\n",
       "      <th>T2-12</th>\n",
       "      <td>1.00</td>\n",
       "      <td>-0.02</td>\n",
       "      <td>-0.03</td>\n",
       "      <td>0.62</td>\n",
       "    </tr>\n",
       "    <tr>\n",
       "      <th>T2-13</th>\n",
       "      <td>-0.02</td>\n",
       "      <td>1.00</td>\n",
       "      <td>-0.02</td>\n",
       "      <td>0.45</td>\n",
       "    </tr>\n",
       "    <tr>\n",
       "      <th>T2-22</th>\n",
       "      <td>-0.03</td>\n",
       "      <td>-0.02</td>\n",
       "      <td>1.00</td>\n",
       "      <td>0.49</td>\n",
       "    </tr>\n",
       "    <tr>\n",
       "      <th>T8-13</th>\n",
       "      <td>0.62</td>\n",
       "      <td>0.45</td>\n",
       "      <td>0.49</td>\n",
       "      <td>1.00</td>\n",
       "    </tr>\n",
       "  </tbody>\n",
       "</table>\n",
       "</div>"
      ],
      "text/plain": [
       "       T2-12  T2-13  T2-22  T8-13\n",
       "T2-12   1.00  -0.02  -0.03   0.62\n",
       "T2-13  -0.02   1.00  -0.02   0.45\n",
       "T2-22  -0.03  -0.02   1.00   0.49\n",
       "T8-13   0.62   0.45   0.49   1.00"
      ]
     },
     "execution_count": 43,
     "metadata": {},
     "output_type": "execute_result"
    }
   ],
   "source": [
    "rule4_index = \"T8-13\"\n",
    "# Get sub rules in rule4_index\n",
    "selected_rules4 = asso4.asso_results_[rule4_index].features\n",
    "np.round(asso4.transform(Xt_train, selected_rules4).corr(), 2)"
   ]
  },
  {
   "cell_type": "markdown",
   "metadata": {},
   "source": [
    "See all selected rules and their subrules."
   ]
  },
  {
   "cell_type": "code",
   "execution_count": 44,
   "metadata": {},
   "outputs": [
    {
     "name": "stdout",
     "output_type": "stream",
     "text": [
      "Rule number:  T8-13\n",
      "Operator:  and\n",
      "+------+--------------------------------+------+-------+\n",
      "| Item | Variable                       | Sign | Value |\n",
      "+------+--------------------------------+------+-------+\n",
      "|  1   | ratio_to_median_purchase_price |  >   |  4.00 |\n",
      "|  2   | distance_from_home             |  <=  |  2.16 |\n",
      "+------+--------------------------------+------+-------+\n",
      "\n",
      "Rule number:  T2-12\n",
      "Operator:  and\n",
      "+------+--------------------------------+------+-------+\n",
      "| Item | Variable                       | Sign | Value |\n",
      "+------+--------------------------------+------+-------+\n",
      "|  1   | online_order_no                |  <=  |  0.50 |\n",
      "|  2   | used_pin_number_yes            |  <=  |  0.50 |\n",
      "|  3   | used_chip_yes                  |  <=  |  0.50 |\n",
      "|  4   | distance_from_home             |  <=  | 99.93 |\n",
      "|  5   | repeat_retailer_yes            |  >   |  0.50 |\n",
      "|  6   | ratio_to_median_purchase_price |  >   |  4.02 |\n",
      "+------+--------------------------------+------+-------+\n",
      "\n",
      "Rule number:  T2-13\n",
      "Operator:  and\n",
      "+------+---------------------+------+-------+\n",
      "| Item | Variable            | Sign | Value |\n",
      "+------+---------------------+------+-------+\n",
      "|  1   | online_order_no     |  <=  |  0.50 |\n",
      "|  2   | used_pin_number_yes |  <=  |  0.50 |\n",
      "|  3   | used_chip_yes       |  <=  |  0.50 |\n",
      "|  4   | distance_from_home  |  >   | 99.93 |\n",
      "+------+---------------------+------+-------+\n",
      "\n",
      "Rule number:  T2-22\n",
      "Operator:  and\n",
      "+------+--------------------------------+------+-------+\n",
      "| Item | Variable                       | Sign | Value |\n",
      "+------+--------------------------------+------+-------+\n",
      "|  1   | online_order_no                |  <=  |  0.50 |\n",
      "|  2   | used_pin_number_yes            |  <=  |  0.50 |\n",
      "|  3   | used_chip_yes                  |  >   |  0.50 |\n",
      "|  4   | ratio_to_median_purchase_price |  >   |  4.00 |\n",
      "+------+--------------------------------+------+-------+\n",
      "\n"
     ]
    }
   ],
   "source": [
    "for n,r in zip(asso4.asso_results_[rule4_index].features,\n",
    "               asso4.asso_results_[rule4_index].rule):\n",
    "    print(\"Rule number: \",n)\n",
    "    print_rule(r)\n",
    "    print()"
   ]
  },
  {
   "cell_type": "markdown",
   "metadata": {},
   "source": [
    "Summary on `Xt_train`"
   ]
  },
  {
   "cell_type": "code",
   "execution_count": 45,
   "metadata": {},
   "outputs": [
    {
     "name": "stdout",
     "output_type": "stream",
     "text": [
      "+----------------+-------+-------+\n",
      "| Statistics     | Value |     % |\n",
      "+----------------+-------+-------+\n",
      "| N              | 7,000 |       |\n",
      "| Target         |   581 |  8.3% |\n",
      "| True Positive  |   538 |  7.7% |\n",
      "| True Negative  | 6,393 | 91.3% |\n",
      "| False Positive |    26 |  0.4% |\n",
      "| False Negative |    43 |  0.6% |\n",
      "| Precision      |       | 95.4% |\n",
      "| Recall         |       | 92.6% |\n",
      "| Accuracy       |       | 99.0% |\n",
      "| F1-Score       |       | 94.0% |\n",
      "+----------------+-------+-------+\n"
     ]
    }
   ],
   "source": [
    "y_pred_train = asso4.transform(Xt_train, rule4_index)\n",
    "print_stats(yt_train, y_pred_train)"
   ]
  },
  {
   "cell_type": "markdown",
   "metadata": {},
   "source": [
    "Summary on `Xt_test`"
   ]
  },
  {
   "cell_type": "code",
   "execution_count": 46,
   "metadata": {},
   "outputs": [
    {
     "name": "stdout",
     "output_type": "stream",
     "text": [
      "+----------------+-------+-------+\n",
      "| Statistics     | Value |     % |\n",
      "+----------------+-------+-------+\n",
      "| N              | 3,000 |       |\n",
      "| Target         |   258 |  8.6% |\n",
      "| True Positive  |   223 |  7.4% |\n",
      "| True Negative  | 2,735 | 91.2% |\n",
      "| False Positive |     7 |  0.2% |\n",
      "| False Negative |    35 |  1.2% |\n",
      "| Precision      |       | 97.0% |\n",
      "| Recall         |       | 86.4% |\n",
      "| Accuracy       |       | 98.6% |\n",
      "| F1-Score       |       | 91.4% |\n",
      "+----------------+-------+-------+\n"
     ]
    }
   ],
   "source": [
    "y_pred_test = asso4.transform(Xt_test, rule4_index)\n",
    "print_stats(yt_test, y_pred_test)"
   ]
  },
  {
   "cell_type": "code",
   "execution_count": 47,
   "metadata": {},
   "outputs": [
    {
     "data": {
      "text/plain": [
       "EvalResults(sample=[7000, 3000], target=[581, 258], tp=[538, 223], fp=[26, 7], fn=[43, 35], tn=[6393, 2735], recall=[0.9259896729776248, 0.8643410852713178], precision=[0.9539007092198581, 0.9695652173913043], f1=[0.9397379912663755, 0.9139344262295082], accuracy=[0.9901428571428571, 0.986])"
      ]
     },
     "execution_count": 47,
     "metadata": {},
     "output_type": "execute_result"
    }
   ],
   "source": [
    "rules = [asso4.asso_results_[n] for n in selected_rules4]\n",
    "evaluate_rules([(Xt_train,yt_train), \n",
    "                (Xt_test ,yt_test)], rules=rules, operator=\"or\")"
   ]
  },
  {
   "cell_type": "markdown",
   "metadata": {},
   "source": [
    "## Creation of rules (5)\n",
    "- Extract the best path in tree that satisfies criteria.\n",
    "- If **`exclude`=True**, after each iteration training samples under previously selected leaf node (path) are excluded from the training set before determining the next rule. If **`exclude`=False**, it changes target to non-target i.e. 1 to 0 while keeping the sample size the same.\n",
    "- This approach stops when the evaluating metric is deemed satisfactory (`max_iter`)."
   ]
  },
  {
   "cell_type": "code",
   "execution_count": 48,
   "metadata": {},
   "outputs": [],
   "source": [
    "kwds = dict(max_depth=None,\n",
    "            max_features=Xt_train.shape[1], \n",
    "            random_state=0, \n",
    "            min_samples_leaf=0.01, \n",
    "            class_weight=\"balanced\")"
   ]
  },
  {
   "cell_type": "code",
   "execution_count": 49,
   "metadata": {},
   "outputs": [
    {
     "data": {
      "application/vnd.jupyter.widget-view+json": {
       "model_id": "99f83e7387ee426a94efdb0b6b1e7ae0",
       "version_major": 2,
       "version_minor": 0
      },
      "text/plain": [
       "HBox(children=(HTMLMath(value='Calculating . . .'), HTMLMath(value='')))"
      ]
     },
     "metadata": {},
     "output_type": "display_data"
    }
   ],
   "source": [
    "model = TreeRuleMining(DecisionTreeClassifier(**kwds), \n",
    "                       exclude=False, \n",
    "                       metric=\"precision\", \n",
    "                       max_iter=10).fit(Xt_train, yt_train)"
   ]
  },
  {
   "cell_type": "markdown",
   "metadata": {},
   "source": [
    "Apply selected rules on `X` and evaluate rule performance against `y`."
   ]
  },
  {
   "cell_type": "code",
   "execution_count": 50,
   "metadata": {},
   "outputs": [],
   "source": [
    "eval_train = model.evaluate(Xt_train, yt_train, cumulative=True)\n",
    "eval_test  = model.evaluate(Xt_test , yt_test , cumulative=True)"
   ]
  },
  {
   "cell_type": "code",
   "execution_count": 51,
   "metadata": {},
   "outputs": [
    {
     "data": {
      "text/html": [
       "<div>\n",
       "<style scoped>\n",
       "    .dataframe tbody tr th:only-of-type {\n",
       "        vertical-align: middle;\n",
       "    }\n",
       "\n",
       "    .dataframe tbody tr th {\n",
       "        vertical-align: top;\n",
       "    }\n",
       "\n",
       "    .dataframe thead th {\n",
       "        text-align: right;\n",
       "    }\n",
       "</style>\n",
       "<table border=\"1\" class=\"dataframe\">\n",
       "  <thead>\n",
       "    <tr style=\"text-align: right;\">\n",
       "      <th></th>\n",
       "      <th>cum_targets</th>\n",
       "      <th>cum_samples</th>\n",
       "      <th>precision</th>\n",
       "      <th>recall</th>\n",
       "    </tr>\n",
       "    <tr>\n",
       "      <th>rule</th>\n",
       "      <th></th>\n",
       "      <th></th>\n",
       "      <th></th>\n",
       "      <th></th>\n",
       "    </tr>\n",
       "  </thead>\n",
       "  <tbody>\n",
       "    <tr>\n",
       "      <th>1</th>\n",
       "      <td>84</td>\n",
       "      <td>87</td>\n",
       "      <td>0.965517</td>\n",
       "      <td>0.144578</td>\n",
       "    </tr>\n",
       "    <tr>\n",
       "      <th>2</th>\n",
       "      <td>193</td>\n",
       "      <td>205</td>\n",
       "      <td>0.941463</td>\n",
       "      <td>0.332186</td>\n",
       "    </tr>\n",
       "    <tr>\n",
       "      <th>3</th>\n",
       "      <td>281</td>\n",
       "      <td>293</td>\n",
       "      <td>0.959044</td>\n",
       "      <td>0.483649</td>\n",
       "    </tr>\n",
       "    <tr>\n",
       "      <th>4</th>\n",
       "      <td>511</td>\n",
       "      <td>523</td>\n",
       "      <td>0.977055</td>\n",
       "      <td>0.879518</td>\n",
       "    </tr>\n",
       "    <tr>\n",
       "      <th>5</th>\n",
       "      <td>542</td>\n",
       "      <td>607</td>\n",
       "      <td>0.892916</td>\n",
       "      <td>0.932874</td>\n",
       "    </tr>\n",
       "  </tbody>\n",
       "</table>\n",
       "</div>"
      ],
      "text/plain": [
       "      cum_targets  cum_samples  precision    recall\n",
       "rule                                               \n",
       "1              84           87   0.965517  0.144578\n",
       "2             193          205   0.941463  0.332186\n",
       "3             281          293   0.959044  0.483649\n",
       "4             511          523   0.977055  0.879518\n",
       "5             542          607   0.892916  0.932874"
      ]
     },
     "execution_count": 51,
     "metadata": {},
     "output_type": "execute_result"
    }
   ],
   "source": [
    "eval_train.head()"
   ]
  },
  {
   "cell_type": "markdown",
   "metadata": {},
   "source": [
    "Example of visualizations"
   ]
  },
  {
   "cell_type": "code",
   "execution_count": 52,
   "metadata": {},
   "outputs": [],
   "source": [
    "kwds = dict(lw=2, solid_capstyle='round', marker=\"o\")\n",
    "trp_kwds = dict(color=\"#1B9CFC\", label=\"Precision (Train)\")\n",
    "tep_kwds = dict(color=\"#1B9CFC\", label=\"Precision (Test)\", ls=\"--\")\n",
    "trr_kwds = dict(color=\"#F97F51\", label=\"Recall (Train)\")\n",
    "ter_kwds = dict(color=\"#F97F51\", label=\"Recall (Test)\", ls=\"--\")"
   ]
  },
  {
   "cell_type": "code",
   "execution_count": 53,
   "metadata": {
    "scrolled": true
   },
   "outputs": [
    {
     "data": {
      "image/png": "[encoded data removed]",
      "text/plain": [
       "<Figure size 468x324 with 1 Axes>"
      ]
     },
     "metadata": {
      "needs_background": "light"
     },
     "output_type": "display_data"
    }
   ],
   "source": [
    "ax = plt.subplots()[1]\n",
    "ax.plot(eval_train[\"precision\"], **{**trp_kwds,**kwds})\n",
    "ax.plot(eval_test[\"precision\"], **{**tep_kwds,**kwds})\n",
    "ax.plot(eval_train[\"recall\"], **{**trr_kwds,**kwds})\n",
    "ax.plot(eval_test[\"recall\"], **{**ter_kwds,**kwds})\n",
    "ax.set_ylabel(\"Precision & Recall\", fontsize=12)\n",
    "ax.set_xlabel(\"Number of rules\", fontsize=12)\n",
    "ax.legend(loc=\"best\", fontsize=12)\n",
    "plt.tight_layout()"
   ]
  },
  {
   "cell_type": "markdown",
   "metadata": {},
   "source": [
    "See all selected rules and their subrules."
   ]
  },
  {
   "cell_type": "code",
   "execution_count": 54,
   "metadata": {},
   "outputs": [
    {
     "name": "stdout",
     "output_type": "stream",
     "text": [
      "Rule_1\n",
      "Operator:  and\n",
      "+------+--------------------------------+------+-------+\n",
      "| Item | Variable                       | Sign | Value |\n",
      "+------+--------------------------------+------+-------+\n",
      "|  1   | ratio_to_median_purchase_price |  >   |  3.98 |\n",
      "|  2   | online_order_no                |  <=  |  0.50 |\n",
      "|  3   | distance_from_last_transaction |  <=  |  6.73 |\n",
      "|  4   | ratio_to_median_purchase_price |  <=  |  5.93 |\n",
      "|  5   | distance_from_home             |  >   |  8.97 |\n",
      "+------+--------------------------------+------+-------+\n",
      "\n",
      "Rule_2\n",
      "Operator:  and\n",
      "+------+--------------------------------+------+--------+\n",
      "| Item | Variable                       | Sign |  Value |\n",
      "+------+--------------------------------+------+--------+\n",
      "|  1   | ratio_to_median_purchase_price |  <=  |   4.00 |\n",
      "|  2   | distance_from_home             |  >   | 100.16 |\n",
      "|  3   | online_order_yes               |  >   |   0.50 |\n",
      "|  4   | used_chip_no                   |  >   |   0.50 |\n",
      "+------+--------------------------------+------+--------+\n",
      "\n",
      "Rule_3\n",
      "Operator:  and\n",
      "+------+--------------------------------+------+-------+\n",
      "| Item | Variable                       | Sign | Value |\n",
      "+------+--------------------------------+------+-------+\n",
      "|  1   | ratio_to_median_purchase_price |  >   |  4.00 |\n",
      "|  2   | used_pin_number_yes            |  <=  |  0.50 |\n",
      "|  3   | online_order_yes               |  >   |  0.50 |\n",
      "|  4   | ratio_to_median_purchase_price |  <=  |  5.80 |\n",
      "|  5   | distance_from_home             |  <=  |  9.00 |\n",
      "+------+--------------------------------+------+-------+\n",
      "\n",
      "Rule_4\n",
      "Operator:  and\n",
      "+------+--------------------------------+------+-------+\n",
      "| Item | Variable                       | Sign | Value |\n",
      "+------+--------------------------------+------+-------+\n",
      "|  1   | ratio_to_median_purchase_price |  >   |  4.26 |\n",
      "|  2   | used_pin_number_no             |  >   |  0.50 |\n",
      "|  3   | ratio_to_median_purchase_price |  >   |  5.83 |\n",
      "|  4   | online_order_yes               |  >   |  0.50 |\n",
      "+------+--------------------------------+------+-------+\n",
      "\n",
      "Rule_5\n",
      "Operator:  and\n",
      "+------+--------------------------------+------+-------+\n",
      "| Item | Variable                       | Sign | Value |\n",
      "+------+--------------------------------+------+-------+\n",
      "|  1   | distance_from_last_transaction |  >   |  7.32 |\n",
      "|  2   | distance_from_last_transaction |  >   | 50.06 |\n",
      "+------+--------------------------------+------+-------+\n",
      "\n"
     ]
    }
   ],
   "source": [
    "n_rules = 5\n",
    "for n in np.arange(n_rules)+1:\n",
    "    key = f\"Rule_{n}\"\n",
    "    print(key)\n",
    "    print_rule(model.rules[key])\n",
    "    print()"
   ]
  },
  {
   "cell_type": "markdown",
   "metadata": {},
   "source": [
    "Use **`self.transform`** to convert rules into features array."
   ]
  },
  {
   "cell_type": "code",
   "execution_count": 55,
   "metadata": {},
   "outputs": [
    {
     "data": {
      "text/html": [
       "<div>\n",
       "<style scoped>\n",
       "    .dataframe tbody tr th:only-of-type {\n",
       "        vertical-align: middle;\n",
       "    }\n",
       "\n",
       "    .dataframe tbody tr th {\n",
       "        vertical-align: top;\n",
       "    }\n",
       "\n",
       "    .dataframe thead th {\n",
       "        text-align: right;\n",
       "    }\n",
       "</style>\n",
       "<table border=\"1\" class=\"dataframe\">\n",
       "  <thead>\n",
       "    <tr style=\"text-align: right;\">\n",
       "      <th></th>\n",
       "      <th>Rule_1</th>\n",
       "      <th>Rule_2</th>\n",
       "      <th>Rule_3</th>\n",
       "      <th>Rule_4</th>\n",
       "      <th>Rule_5</th>\n",
       "    </tr>\n",
       "  </thead>\n",
       "  <tbody>\n",
       "    <tr>\n",
       "      <th>0</th>\n",
       "      <td>False</td>\n",
       "      <td>False</td>\n",
       "      <td>False</td>\n",
       "      <td>False</td>\n",
       "      <td>False</td>\n",
       "    </tr>\n",
       "    <tr>\n",
       "      <th>1</th>\n",
       "      <td>False</td>\n",
       "      <td>False</td>\n",
       "      <td>False</td>\n",
       "      <td>False</td>\n",
       "      <td>False</td>\n",
       "    </tr>\n",
       "    <tr>\n",
       "      <th>2</th>\n",
       "      <td>False</td>\n",
       "      <td>False</td>\n",
       "      <td>False</td>\n",
       "      <td>False</td>\n",
       "      <td>False</td>\n",
       "    </tr>\n",
       "    <tr>\n",
       "      <th>3</th>\n",
       "      <td>False</td>\n",
       "      <td>False</td>\n",
       "      <td>True</td>\n",
       "      <td>False</td>\n",
       "      <td>False</td>\n",
       "    </tr>\n",
       "    <tr>\n",
       "      <th>4</th>\n",
       "      <td>False</td>\n",
       "      <td>False</td>\n",
       "      <td>False</td>\n",
       "      <td>False</td>\n",
       "      <td>False</td>\n",
       "    </tr>\n",
       "  </tbody>\n",
       "</table>\n",
       "</div>"
      ],
      "text/plain": [
       "   Rule_1  Rule_2  Rule_3  Rule_4  Rule_5\n",
       "0   False   False   False   False   False\n",
       "1   False   False   False   False   False\n",
       "2   False   False   False   False   False\n",
       "3   False   False    True   False   False\n",
       "4   False   False   False   False   False"
      ]
     },
     "execution_count": 55,
     "metadata": {},
     "output_type": "execute_result"
    }
   ],
   "source": [
    "model.transform(Xt_train, n_rules).head()"
   ]
  },
  {
   "cell_type": "markdown",
   "metadata": {},
   "source": [
    "Summary on `Xt_train`"
   ]
  },
  {
   "cell_type": "code",
   "execution_count": 56,
   "metadata": {},
   "outputs": [
    {
     "name": "stdout",
     "output_type": "stream",
     "text": [
      "+----------------+-------+-------+\n",
      "| Statistics     | Value |     % |\n",
      "+----------------+-------+-------+\n",
      "| N              | 7,000 |       |\n",
      "| Target         |   581 |  8.3% |\n",
      "| True Positive  |   542 |  7.7% |\n",
      "| True Negative  | 6,354 | 90.8% |\n",
      "| False Positive |    65 |  0.9% |\n",
      "| False Negative |    39 |  0.6% |\n",
      "| Precision      |       | 89.3% |\n",
      "| Recall         |       | 93.3% |\n",
      "| Accuracy       |       | 98.5% |\n",
      "| F1-Score       |       | 91.2% |\n",
      "+----------------+-------+-------+\n"
     ]
    }
   ],
   "source": [
    "yt_pred_train = model.transform(Xt_train, n_rules).sum(1)>0\n",
    "print_stats(yt_train, yt_pred_train)"
   ]
  },
  {
   "cell_type": "code",
   "execution_count": 57,
   "metadata": {},
   "outputs": [
    {
     "name": "stdout",
     "output_type": "stream",
     "text": [
      "+----------------+-------+-------+\n",
      "| Statistics     | Value |     % |\n",
      "+----------------+-------+-------+\n",
      "| N              | 3,000 |       |\n",
      "| Target         |   258 |  8.6% |\n",
      "| True Positive  |   238 |  7.9% |\n",
      "| True Negative  | 2,707 | 90.2% |\n",
      "| False Positive |    35 |  1.2% |\n",
      "| False Negative |    20 |  0.7% |\n",
      "| Precision      |       | 87.2% |\n",
      "| Recall         |       | 92.2% |\n",
      "| Accuracy       |       | 98.2% |\n",
      "| F1-Score       |       | 89.6% |\n",
      "+----------------+-------+-------+\n"
     ]
    }
   ],
   "source": [
    "yt_pred_test = model.transform(Xt_test, n_rules).sum(1)>0\n",
    "print_stats(yt_test, yt_pred_test)"
   ]
  },
  {
   "cell_type": "code",
   "execution_count": null,
   "metadata": {},
   "outputs": [],
   "source": []
  }
 ],
 "metadata": {
  "kernelspec": {
   "display_name": "Python 3 (ipykernel)",
   "language": "python",
   "name": "python3"
  },
  "language_info": {
   "codemirror_mode": {
    "name": "ipython",
    "version": 3
   },
   "file_extension": ".py",
   "mimetype": "text/x-python",
   "name": "python",
   "nbconvert_exporter": "python",
   "pygments_lexer": "ipython3",
   "version": "3.9.7"
  }
 },
 "nbformat": 4,
 "nbformat_minor": 2
}
