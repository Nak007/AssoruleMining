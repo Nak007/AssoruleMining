{
 "cells": [
  {
   "cell_type": "markdown",
   "metadata": {},
   "source": [
    "### Google.colab\n",
    "Only execute this cell when use on google colab platform (colab)."
   ]
  },
  {
   "cell_type": "markdown",
   "metadata": {},
   "source": [
    "<table class=\"tfo-notebook-buttons\" align=\"left\">\n",
    "  <td>\n",
    "    <a target=\"_blank\" href=\"https://github.com/Nak007/AssoruleMining\">\n",
    "    <img src=\"https://www.tensorflow.org/images/GitHub-Mark-32px.png\" />View source on GitHub</a>\n",
    "  </td>\n",
    "</table>"
   ]
  },
  {
   "cell_type": "code",
   "execution_count": null,
   "metadata": {},
   "outputs": [],
   "source": [
    "# Mount with google drive.\n",
    "from google.colab import drive\n",
    "drive.mount('/content/dirve')\n",
    "# Import other libraries required. All *.py will be \n",
    "# stored under the following location i.e. '/content/example.py'.\n",
    "!git clone 'http://github.com/Nak007/AssoruleMining.git'\n",
    "!pip install PrettyTable"
   ]
  },
  {
   "cell_type": "markdown",
   "metadata": {},
   "source": [
    "## Example"
   ]
  },
  {
   "cell_type": "code",
   "execution_count": 19,
   "metadata": {},
   "outputs": [],
   "source": [
    "import pandas as pd, numpy as np, sys\n",
    "try: sys.path.append('/content/AssoruleMining')\n",
    "except: pass\n",
    "from AssoruleMining import *\n",
    "from sklearn.model_selection import train_test_split as tts"
   ]
  },
  {
   "cell_type": "code",
   "execution_count": 20,
   "metadata": {},
   "outputs": [],
   "source": [
    "X = pd.read_csv('card_transdata_10K.txt', sep=\"|\")\n",
    "y = X.pop(\"fraud\").values"
   ]
  },
  {
   "cell_type": "code",
   "execution_count": 21,
   "metadata": {},
   "outputs": [],
   "source": [
    "for var in [\"repeat_retailer\", \"used_chip\", \"used_pin_number\", \"online_order\"]:\n",
    "    X[var] = np.where(X[var]==1,\"yes\",\"no\")"
   ]
  },
  {
   "cell_type": "code",
   "execution_count": 22,
   "metadata": {},
   "outputs": [
    {
     "name": "stdout",
     "output_type": "stream",
     "text": [
      "<class 'pandas.core.frame.DataFrame'>\n",
      "RangeIndex: 10000 entries, 0 to 9999\n",
      "Data columns (total 7 columns):\n",
      " #   Column                          Non-Null Count  Dtype  \n",
      "---  ------                          --------------  -----  \n",
      " 0   distance_from_home              10000 non-null  float64\n",
      " 1   distance_from_last_transaction  10000 non-null  float64\n",
      " 2   ratio_to_median_purchase_price  10000 non-null  float64\n",
      " 3   repeat_retailer                 10000 non-null  object \n",
      " 4   used_chip                       10000 non-null  object \n",
      " 5   used_pin_number                 10000 non-null  object \n",
      " 6   online_order                    10000 non-null  object \n",
      "dtypes: float64(3), object(4)\n",
      "memory usage: 547.0+ KB\n"
     ]
    }
   ],
   "source": [
    "X.info()"
   ]
  },
  {
   "cell_type": "markdown",
   "metadata": {},
   "source": [
    "We use **`define_dtype`** to convert columns in `X` to possible dtypes which are `float32`, `int32`, `category`, and `object`. However, it ignores columns, whose dtype is either np.datetime64 or np.timedelta64."
   ]
  },
  {
   "cell_type": "code",
   "execution_count": 23,
   "metadata": {},
   "outputs": [],
   "source": [
    "X = define_dtype(X)"
   ]
  },
  {
   "cell_type": "code",
   "execution_count": 24,
   "metadata": {},
   "outputs": [
    {
     "name": "stdout",
     "output_type": "stream",
     "text": [
      "<class 'pandas.core.frame.DataFrame'>\n",
      "RangeIndex: 10000 entries, 0 to 9999\n",
      "Data columns (total 7 columns):\n",
      " #   Column                          Non-Null Count  Dtype   \n",
      "---  ------                          --------------  -----   \n",
      " 0   distance_from_home              10000 non-null  float32 \n",
      " 1   distance_from_last_transaction  10000 non-null  float32 \n",
      " 2   ratio_to_median_purchase_price  10000 non-null  float32 \n",
      " 3   repeat_retailer                 10000 non-null  category\n",
      " 4   used_chip                       10000 non-null  category\n",
      " 5   used_pin_number                 10000 non-null  category\n",
      " 6   online_order                    10000 non-null  category\n",
      "dtypes: category(4), float32(3)\n",
      "memory usage: 156.9 KB\n"
     ]
    }
   ],
   "source": [
    "X.info()"
   ]
  },
  {
   "cell_type": "markdown",
   "metadata": {
    "id": "LXL9lUApPTVk"
   },
   "source": [
    "Split data into **train**, and **test** sets [(**`train_test_split`**)](https://scikit-learn.org/stable/modules/generated/sklearn.model_selection.train_test_split.html)"
   ]
  },
  {
   "cell_type": "code",
   "execution_count": 25,
   "metadata": {
    "executionInfo": {
     "elapsed": 1402,
     "status": "ok",
     "timestamp": 1614135192095,
     "user": {
      "displayName": "Danusorn Sitdhirasdr",
      "photoUrl": "",
      "userId": "00479571870945710380"
     },
     "user_tz": -420
    },
    "id": "YGsdoNNxYO0k"
   },
   "outputs": [],
   "source": [
    "X_train, X_test, y_train, y_test = tts(X, y, test_size=0.3, shuffle=True, random_state=0)"
   ]
  },
  {
   "cell_type": "markdown",
   "metadata": {},
   "source": [
    "To discretize `X`, we use **`discretize`**."
   ]
  },
  {
   "cell_type": "code",
   "execution_count": 26,
   "metadata": {},
   "outputs": [],
   "source": [
    "discr_X1, rules1 = discretize(X_train, n_cutoffs=20)"
   ]
  },
  {
   "cell_type": "markdown",
   "metadata": {},
   "source": [
    "## Creation of rules (1)\n",
    "- Antecedent rule is mutually exclusive to consequent rule (assumption).\n",
    "- Training samples captured by antecedent rule(s) are excluded before determining the next consequent rule.\n",
    "- This approach stops when the evaluating metric is deemed satisfactory or not improving."
   ]
  },
  {
   "cell_type": "code",
   "execution_count": 27,
   "metadata": {},
   "outputs": [
    {
     "data": {
      "application/vnd.jupyter.widget-view+json": {
       "model_id": "59b3ae8b50ec49db940bc54f94a4d78b",
       "version_major": 2,
       "version_minor": 0
      },
      "text/plain": [
       "HBox(children=(HTMLMath(value='Calculating . . .'), HTMLMath(value='')))"
      ]
     },
     "metadata": {},
     "output_type": "display_data"
    }
   ],
   "source": [
    "asso1 = AssoRuleMining(metric=\"f1\", operator=\"and\", n_jobs=3, n_batches=5).fit(discr_X1, y_train, rules=rules1)"
   ]
  },
  {
   "cell_type": "markdown",
   "metadata": {},
   "source": [
    "**info** (attribute) : a summary table that comes in a form of `dict` with keys as column headers. It can be imported into a pandas DataFrame."
   ]
  },
  {
   "cell_type": "code",
   "execution_count": 28,
   "metadata": {
    "scrolled": true
   },
   "outputs": [
    {
     "data": {
      "text/html": [
       "<div>\n",
       "<style scoped>\n",
       "    .dataframe tbody tr th:only-of-type {\n",
       "        vertical-align: middle;\n",
       "    }\n",
       "\n",
       "    .dataframe tbody tr th {\n",
       "        vertical-align: top;\n",
       "    }\n",
       "\n",
       "    .dataframe thead th {\n",
       "        text-align: right;\n",
       "    }\n",
       "</style>\n",
       "<table border=\"1\" class=\"dataframe\">\n",
       "  <thead>\n",
       "    <tr style=\"text-align: right;\">\n",
       "      <th></th>\n",
       "      <th>start_with</th>\n",
       "      <th>variable</th>\n",
       "      <th>n_features</th>\n",
       "      <th>p_target</th>\n",
       "      <th>p_sample</th>\n",
       "      <th>f1_score</th>\n",
       "      <th>recall</th>\n",
       "      <th>precision</th>\n",
       "      <th>entropy</th>\n",
       "    </tr>\n",
       "  </thead>\n",
       "  <tbody>\n",
       "    <tr>\n",
       "      <th>2</th>\n",
       "      <td>None</td>\n",
       "      <td>124</td>\n",
       "      <td>3</td>\n",
       "      <td>0.691910</td>\n",
       "      <td>0.057429</td>\n",
       "      <td>0.817904</td>\n",
       "      <td>0.691910</td>\n",
       "      <td>1.0</td>\n",
       "      <td>0.169460</td>\n",
       "    </tr>\n",
       "    <tr>\n",
       "      <th>19</th>\n",
       "      <td>None</td>\n",
       "      <td>99</td>\n",
       "      <td>4</td>\n",
       "      <td>0.690189</td>\n",
       "      <td>0.057286</td>\n",
       "      <td>0.816701</td>\n",
       "      <td>0.690189</td>\n",
       "      <td>1.0</td>\n",
       "      <td>0.170203</td>\n",
       "    </tr>\n",
       "    <tr>\n",
       "      <th>27</th>\n",
       "      <td>None</td>\n",
       "      <td>61</td>\n",
       "      <td>4</td>\n",
       "      <td>0.659208</td>\n",
       "      <td>0.054714</td>\n",
       "      <td>0.794606</td>\n",
       "      <td>0.659208</td>\n",
       "      <td>1.0</td>\n",
       "      <td>0.183390</td>\n",
       "    </tr>\n",
       "    <tr>\n",
       "      <th>50</th>\n",
       "      <td>None</td>\n",
       "      <td>21</td>\n",
       "      <td>4</td>\n",
       "      <td>0.657487</td>\n",
       "      <td>0.054571</td>\n",
       "      <td>0.793354</td>\n",
       "      <td>0.657487</td>\n",
       "      <td>1.0</td>\n",
       "      <td>0.184113</td>\n",
       "    </tr>\n",
       "    <tr>\n",
       "      <th>35</th>\n",
       "      <td>None</td>\n",
       "      <td>58</td>\n",
       "      <td>4</td>\n",
       "      <td>0.652324</td>\n",
       "      <td>0.054143</td>\n",
       "      <td>0.789583</td>\n",
       "      <td>0.652324</td>\n",
       "      <td>1.0</td>\n",
       "      <td>0.186275</td>\n",
       "    </tr>\n",
       "  </tbody>\n",
       "</table>\n",
       "</div>"
      ],
      "text/plain": [
       "   start_with  variable  n_features  p_target  p_sample  f1_score    recall  \\\n",
       "2        None       124           3  0.691910  0.057429  0.817904  0.691910   \n",
       "19       None        99           4  0.690189  0.057286  0.816701  0.690189   \n",
       "27       None        61           4  0.659208  0.054714  0.794606  0.659208   \n",
       "50       None        21           4  0.657487  0.054571  0.793354  0.657487   \n",
       "35       None        58           4  0.652324  0.054143  0.789583  0.652324   \n",
       "\n",
       "    precision   entropy  \n",
       "2         1.0  0.169460  \n",
       "19        1.0  0.170203  \n",
       "27        1.0  0.183390  \n",
       "50        1.0  0.184113  \n",
       "35        1.0  0.186275  "
      ]
     },
     "execution_count": 28,
     "metadata": {},
     "output_type": "execute_result"
    }
   ],
   "source": [
    "pd.DataFrame(asso1.info).sort_values(by=[\"f1_score\",\"n_features\"], ascending=[False,True]).head()"
   ]
  },
  {
   "cell_type": "markdown",
   "metadata": {},
   "source": [
    "For this example, we focus on `f1-score`. Hence, we choose rule(s) that has the highest `f1-score` accordingly. In the case of a tie, we select `variable`, whose number of features is the lowest. This is for the sake of reducing rule complexity."
   ]
  },
  {
   "cell_type": "markdown",
   "metadata": {},
   "source": [
    "To create $1^{st}$ rule, we use **`RuleToFeature`** to convert rules into features array."
   ]
  },
  {
   "cell_type": "code",
   "execution_count": 29,
   "metadata": {},
   "outputs": [],
   "source": [
    "rule1_index = 124\n",
    "FirstRule = RuleToFeature(X_train, asso1.asso_results_, which_rules=[rule1_index])"
   ]
  },
  {
   "cell_type": "markdown",
   "metadata": {},
   "source": [
    "Use **`print_rule`** to tabulate rule information i.e. intervals."
   ]
  },
  {
   "cell_type": "code",
   "execution_count": 30,
   "metadata": {},
   "outputs": [
    {
     "name": "stdout",
     "output_type": "stream",
     "text": [
      "Operator:  and\n",
      "+------+--------------------------------+------+-------+\n",
      "| Item | Variable                       | Sign | Value |\n",
      "+------+--------------------------------+------+-------+\n",
      "|  1   | used_pin_number                |  ==  |    no |\n",
      "|  2   | ratio_to_median_purchase_price |  >=  |  4.07 |\n",
      "|  3   | online_order                   |  ==  |   yes |\n",
      "+------+--------------------------------+------+-------+\n"
     ]
    }
   ],
   "source": [
    "print_rule(FirstRule[1][rule1_index])"
   ]
  },
  {
   "cell_type": "markdown",
   "metadata": {},
   "source": [
    "Before determining next rule, we exclude only instances that meet the $1^{st}$ rule."
   ]
  },
  {
   "cell_type": "code",
   "execution_count": 31,
   "metadata": {},
   "outputs": [],
   "source": [
    "index = FirstRule[0].values.ravel()\n",
    "X2 = X_train.loc[~index] \n",
    "y2 = y_train[~index]"
   ]
  },
  {
   "cell_type": "code",
   "execution_count": 32,
   "metadata": {},
   "outputs": [],
   "source": [
    "discr_X2, rules2 = discretize(X2, n_cutoffs=20)"
   ]
  },
  {
   "cell_type": "code",
   "execution_count": 33,
   "metadata": {},
   "outputs": [
    {
     "data": {
      "application/vnd.jupyter.widget-view+json": {
       "model_id": "dcb18c2b3a034bae850e28f0a4ffbc53",
       "version_major": 2,
       "version_minor": 0
      },
      "text/plain": [
       "HBox(children=(HTMLMath(value='Calculating . . .'), HTMLMath(value='')))"
      ]
     },
     "metadata": {},
     "output_type": "display_data"
    }
   ],
   "source": [
    "asso2 = AssoRuleMining(metric=\"f1\", operator=\"and\", n_jobs=3).fit(discr_X2, y2, rules=rules2)"
   ]
  },
  {
   "cell_type": "code",
   "execution_count": 34,
   "metadata": {},
   "outputs": [
    {
     "data": {
      "text/html": [
       "<div>\n",
       "<style scoped>\n",
       "    .dataframe tbody tr th:only-of-type {\n",
       "        vertical-align: middle;\n",
       "    }\n",
       "\n",
       "    .dataframe tbody tr th {\n",
       "        vertical-align: top;\n",
       "    }\n",
       "\n",
       "    .dataframe thead th {\n",
       "        text-align: right;\n",
       "    }\n",
       "</style>\n",
       "<table border=\"1\" class=\"dataframe\">\n",
       "  <thead>\n",
       "    <tr style=\"text-align: right;\">\n",
       "      <th></th>\n",
       "      <th>start_with</th>\n",
       "      <th>variable</th>\n",
       "      <th>n_features</th>\n",
       "      <th>p_target</th>\n",
       "      <th>p_sample</th>\n",
       "      <th>f1_score</th>\n",
       "      <th>recall</th>\n",
       "      <th>precision</th>\n",
       "      <th>entropy</th>\n",
       "    </tr>\n",
       "  </thead>\n",
       "  <tbody>\n",
       "    <tr>\n",
       "      <th>22</th>\n",
       "      <td>None</td>\n",
       "      <td>122</td>\n",
       "      <td>4</td>\n",
       "      <td>0.620112</td>\n",
       "      <td>0.017884</td>\n",
       "      <td>0.747475</td>\n",
       "      <td>0.620112</td>\n",
       "      <td>0.940678</td>\n",
       "      <td>0.088354</td>\n",
       "    </tr>\n",
       "    <tr>\n",
       "      <th>26</th>\n",
       "      <td>None</td>\n",
       "      <td>98</td>\n",
       "      <td>5</td>\n",
       "      <td>0.608939</td>\n",
       "      <td>0.017581</td>\n",
       "      <td>0.738983</td>\n",
       "      <td>0.608939</td>\n",
       "      <td>0.939655</td>\n",
       "      <td>0.090314</td>\n",
       "    </tr>\n",
       "    <tr>\n",
       "      <th>69</th>\n",
       "      <td>None</td>\n",
       "      <td>61</td>\n",
       "      <td>5</td>\n",
       "      <td>0.603352</td>\n",
       "      <td>0.017278</td>\n",
       "      <td>0.737201</td>\n",
       "      <td>0.603352</td>\n",
       "      <td>0.947368</td>\n",
       "      <td>0.090663</td>\n",
       "    </tr>\n",
       "    <tr>\n",
       "      <th>43</th>\n",
       "      <td>None</td>\n",
       "      <td>101</td>\n",
       "      <td>5</td>\n",
       "      <td>0.592179</td>\n",
       "      <td>0.017126</td>\n",
       "      <td>0.726027</td>\n",
       "      <td>0.592179</td>\n",
       "      <td>0.938053</td>\n",
       "      <td>0.093229</td>\n",
       "    </tr>\n",
       "    <tr>\n",
       "      <th>68</th>\n",
       "      <td>None</td>\n",
       "      <td>62</td>\n",
       "      <td>5</td>\n",
       "      <td>0.586592</td>\n",
       "      <td>0.016823</td>\n",
       "      <td>0.724138</td>\n",
       "      <td>0.586592</td>\n",
       "      <td>0.945946</td>\n",
       "      <td>0.093575</td>\n",
       "    </tr>\n",
       "  </tbody>\n",
       "</table>\n",
       "</div>"
      ],
      "text/plain": [
       "   start_with  variable  n_features  p_target  p_sample  f1_score    recall  \\\n",
       "22       None       122           4  0.620112  0.017884  0.747475  0.620112   \n",
       "26       None        98           5  0.608939  0.017581  0.738983  0.608939   \n",
       "69       None        61           5  0.603352  0.017278  0.737201  0.603352   \n",
       "43       None       101           5  0.592179  0.017126  0.726027  0.592179   \n",
       "68       None        62           5  0.586592  0.016823  0.724138  0.586592   \n",
       "\n",
       "    precision   entropy  \n",
       "22   0.940678  0.088354  \n",
       "26   0.939655  0.090314  \n",
       "69   0.947368  0.090663  \n",
       "43   0.938053  0.093229  \n",
       "68   0.945946  0.093575  "
      ]
     },
     "execution_count": 34,
     "metadata": {},
     "output_type": "execute_result"
    }
   ],
   "source": [
    "pd.DataFrame(asso2.info).sort_values(by=[\"f1_score\",\"n_features\"], ascending=[False,True]).head(5)"
   ]
  },
  {
   "cell_type": "markdown",
   "metadata": {},
   "source": [
    "Create $2^{nd}$ rule"
   ]
  },
  {
   "cell_type": "code",
   "execution_count": 35,
   "metadata": {},
   "outputs": [
    {
     "name": "stdout",
     "output_type": "stream",
     "text": [
      "Operator:  and\n",
      "+------+--------------------+------+-------+\n",
      "| Item | Variable           | Sign | Value |\n",
      "+------+--------------------+------+-------+\n",
      "|  1   | used_chip          |  ==  |    no |\n",
      "|  2   | distance_from_home |  >=  | 96.43 |\n",
      "|  3   | online_order       |  ==  |   yes |\n",
      "|  4   | used_pin_number    |  ==  |    no |\n",
      "+------+--------------------+------+-------+\n"
     ]
    }
   ],
   "source": [
    "rule2_index = 122\n",
    "SecondRule = RuleToFeature(X_train, asso2.asso_results_, which_rules=[rule2_index])\n",
    "print_rule(SecondRule[1][rule2_index])"
   ]
  },
  {
   "cell_type": "markdown",
   "metadata": {},
   "source": [
    "Summary on `X_train`"
   ]
  },
  {
   "cell_type": "code",
   "execution_count": 36,
   "metadata": {},
   "outputs": [
    {
     "name": "stdout",
     "output_type": "stream",
     "text": [
      "Correlation between 1st and 2nd rules : 2.06%\n"
     ]
    }
   ],
   "source": [
    "corr = np.corrcoef(np.hstack((FirstRule[0], SecondRule[0])).T)[0,1]\n",
    "print(\"Correlation between 1st and 2nd rules : {:.2%}\".format(corr))"
   ]
  },
  {
   "cell_type": "markdown",
   "metadata": {},
   "source": [
    "Since the correlation is insignificant i.e. 2.06%, we will ignore adding the negation of the first rule to the second rule."
   ]
  },
  {
   "cell_type": "code",
   "execution_count": 37,
   "metadata": {},
   "outputs": [
    {
     "name": "stdout",
     "output_type": "stream",
     "text": [
      "+----------------+-------+-------+\n",
      "| Statistics     | Value |     % |\n",
      "+----------------+-------+-------+\n",
      "| N              | 7,000 |       |\n",
      "| Target         |   581 |  8.3% |\n",
      "| True Positive  |   513 |  7.3% |\n",
      "| True Negative  | 6,412 | 91.6% |\n",
      "| False Positive |     7 |  0.1% |\n",
      "| False Negative |    68 |  1.0% |\n",
      "| Precision      |       | 98.7% |\n",
      "| Recall         |       | 88.3% |\n",
      "| Accuracy       |       | 98.9% |\n",
      "| F1-Score       |       | 93.2% |\n",
      "+----------------+-------+-------+\n"
     ]
    }
   ],
   "source": [
    "y_pred_train = (FirstRule[0].values | SecondRule[0].values)\n",
    "print_stats(y_train, y_pred_train)"
   ]
  },
  {
   "cell_type": "markdown",
   "metadata": {},
   "source": [
    "Summary on `X_test`"
   ]
  },
  {
   "cell_type": "code",
   "execution_count": 38,
   "metadata": {},
   "outputs": [
    {
     "name": "stdout",
     "output_type": "stream",
     "text": [
      "+----------------+-------+------+\n",
      "| Statistics     | Value |    % |\n",
      "+----------------+-------+------+\n",
      "| N              | 3,000 |      |\n",
      "| Target         |   258 |   9% |\n",
      "| True Positive  |   211 |   7% |\n",
      "| True Negative  | 2,742 |  91% |\n",
      "| False Positive |     0 |   0% |\n",
      "| False Negative |    47 |   2% |\n",
      "| Precision      |       | 100% |\n",
      "| Recall         |       |  82% |\n",
      "| Accuracy       |       |  98% |\n",
      "| F1-Score       |       |  90% |\n",
      "+----------------+-------+------+\n"
     ]
    }
   ],
   "source": [
    "y_pred_test = (RuleToFeature(X_test, asso1.asso_results_, which_rules=[rule1_index])[0].values |\n",
    "               RuleToFeature(X_test, asso2.asso_results_, which_rules=[rule2_index])[0].values)\n",
    "print_stats(y_test, y_pred_test, 0)"
   ]
  },
  {
   "cell_type": "markdown",
   "metadata": {},
   "source": [
    "Alternatively, we can use **`evaluate_rules`** to evaluate all datasets at the same time."
   ]
  },
  {
   "cell_type": "code",
   "execution_count": 39,
   "metadata": {},
   "outputs": [
    {
     "data": {
      "text/plain": [
       "EvalResults(sample=[7000, 3000], target=[581, 258], tp=[513, 211], fp=[7, 0], fn=[68, 47], tn=[6412, 2742], recall=[0.882960413080895, 0.8178294573643411], precision=[0.9865384615384616, 1.0], f1=[0.9318801089918256, 0.8997867803837952], accuracy=[0.9892857142857143, 0.9843333333333333])"
      ]
     },
     "execution_count": 39,
     "metadata": {},
     "output_type": "execute_result"
    }
   ],
   "source": [
    "rules=[asso1.asso_results_[rule1_index], asso2.asso_results_[rule2_index]]\n",
    "evaluate_rules([(X_train,y_train), (X_test,y_test)], rules=rules, operator=\"or\")"
   ]
  },
  {
   "cell_type": "markdown",
   "metadata": {},
   "source": [
    "## Creation of rules (2)\n",
    "- Convert all rules into features.\n",
    "- Determine combinations of rules that optimize the evaluating metric. This can be used as validation of rules."
   ]
  },
  {
   "cell_type": "markdown",
   "metadata": {},
   "source": [
    "Selecting variables that capture target more than `x`% helps in reducing features, whose impact is insignificant. For this example, we use 10%."
   ]
  },
  {
   "cell_type": "code",
   "execution_count": 43,
   "metadata": {},
   "outputs": [],
   "source": [
    "which_rules = np.array(asso1.info[\"variable\"])[np.array(asso1.info[\"p_target\"])>0.01]\n",
    "discr_X3, rules3 = RuleToFeature(X_train, asso1.asso_results_, which_rules=which_rules)"
   ]
  },
  {
   "cell_type": "code",
   "execution_count": 44,
   "metadata": {},
   "outputs": [
    {
     "data": {
      "application/vnd.jupyter.widget-view+json": {
       "model_id": "43b9de4aec7148cb8adb9e5467095a70",
       "version_major": 2,
       "version_minor": 0
      },
      "text/plain": [
       "HBox(children=(HTMLMath(value='Calculating . . .'), HTMLMath(value='')))"
      ]
     },
     "metadata": {},
     "output_type": "display_data"
    },
    {
     "data": {
      "text/plain": [
       "<__main__.AssoRuleMining at 0x1bae1dae580>"
      ]
     },
     "execution_count": 44,
     "metadata": {},
     "output_type": "execute_result"
    }
   ],
   "source": [
    "asso3 = AssoRuleMining(metric=\"f1\", operator=\"or\", n_jobs=4, n_batches=5)\n",
    "asso3.fit(discr_X3, y_train, rules=rules3)"
   ]
  },
  {
   "cell_type": "code",
   "execution_count": 45,
   "metadata": {
    "scrolled": false
   },
   "outputs": [
    {
     "data": {
      "text/html": [
       "<div>\n",
       "<style scoped>\n",
       "    .dataframe tbody tr th:only-of-type {\n",
       "        vertical-align: middle;\n",
       "    }\n",
       "\n",
       "    .dataframe tbody tr th {\n",
       "        vertical-align: top;\n",
       "    }\n",
       "\n",
       "    .dataframe thead th {\n",
       "        text-align: right;\n",
       "    }\n",
       "</style>\n",
       "<table border=\"1\" class=\"dataframe\">\n",
       "  <thead>\n",
       "    <tr style=\"text-align: right;\">\n",
       "      <th></th>\n",
       "      <th>start_with</th>\n",
       "      <th>variable</th>\n",
       "      <th>n_features</th>\n",
       "      <th>p_target</th>\n",
       "      <th>p_sample</th>\n",
       "      <th>f1_score</th>\n",
       "      <th>recall</th>\n",
       "      <th>precision</th>\n",
       "      <th>entropy</th>\n",
       "    </tr>\n",
       "  </thead>\n",
       "  <tbody>\n",
       "    <tr>\n",
       "      <th>0</th>\n",
       "      <td>None</td>\n",
       "      <td>0</td>\n",
       "      <td>4</td>\n",
       "      <td>0.908778</td>\n",
       "      <td>0.077000</td>\n",
       "      <td>0.942857</td>\n",
       "      <td>0.908778</td>\n",
       "      <td>0.979592</td>\n",
       "      <td>0.074412</td>\n",
       "    </tr>\n",
       "    <tr>\n",
       "      <th>1</th>\n",
       "      <td>None</td>\n",
       "      <td>121</td>\n",
       "      <td>4</td>\n",
       "      <td>0.924269</td>\n",
       "      <td>0.079857</td>\n",
       "      <td>0.942105</td>\n",
       "      <td>0.924269</td>\n",
       "      <td>0.960644</td>\n",
       "      <td>0.073367</td>\n",
       "    </tr>\n",
       "    <tr>\n",
       "      <th>2</th>\n",
       "      <td>None</td>\n",
       "      <td>2</td>\n",
       "      <td>4</td>\n",
       "      <td>0.924269</td>\n",
       "      <td>0.080714</td>\n",
       "      <td>0.937173</td>\n",
       "      <td>0.924269</td>\n",
       "      <td>0.950442</td>\n",
       "      <td>0.077210</td>\n",
       "    </tr>\n",
       "  </tbody>\n",
       "</table>\n",
       "</div>"
      ],
      "text/plain": [
       "  start_with  variable  n_features  p_target  p_sample  f1_score    recall  \\\n",
       "0       None         0           4  0.908778  0.077000  0.942857  0.908778   \n",
       "1       None       121           4  0.924269  0.079857  0.942105  0.924269   \n",
       "2       None         2           4  0.924269  0.080714  0.937173  0.924269   \n",
       "\n",
       "   precision   entropy  \n",
       "0   0.979592  0.074412  \n",
       "1   0.960644  0.073367  \n",
       "2   0.950442  0.077210  "
      ]
     },
     "execution_count": 45,
     "metadata": {},
     "output_type": "execute_result"
    }
   ],
   "source": [
    "pd.DataFrame(asso3.info).sort_values(by=[\"f1_score\", \"n_features\"], ascending=[False, True]).head(5)"
   ]
  },
  {
   "cell_type": "markdown",
   "metadata": {},
   "source": [
    "We select rule set from `variable 0` due to low correlations between rules."
   ]
  },
  {
   "cell_type": "code",
   "execution_count": 46,
   "metadata": {},
   "outputs": [
    {
     "data": {
      "text/html": [
       "<div>\n",
       "<style scoped>\n",
       "    .dataframe tbody tr th:only-of-type {\n",
       "        vertical-align: middle;\n",
       "    }\n",
       "\n",
       "    .dataframe tbody tr th {\n",
       "        vertical-align: top;\n",
       "    }\n",
       "\n",
       "    .dataframe thead th {\n",
       "        text-align: right;\n",
       "    }\n",
       "</style>\n",
       "<table border=\"1\" class=\"dataframe\">\n",
       "  <thead>\n",
       "    <tr style=\"text-align: right;\">\n",
       "      <th></th>\n",
       "      <th>0</th>\n",
       "      <th>21</th>\n",
       "      <th>39</th>\n",
       "      <th>126</th>\n",
       "    </tr>\n",
       "  </thead>\n",
       "  <tbody>\n",
       "    <tr>\n",
       "      <th>0</th>\n",
       "      <td>1.00</td>\n",
       "      <td>-0.01</td>\n",
       "      <td>-0.01</td>\n",
       "      <td>-0.00</td>\n",
       "    </tr>\n",
       "    <tr>\n",
       "      <th>21</th>\n",
       "      <td>-0.01</td>\n",
       "      <td>1.00</td>\n",
       "      <td>0.02</td>\n",
       "      <td>-0.01</td>\n",
       "    </tr>\n",
       "    <tr>\n",
       "      <th>39</th>\n",
       "      <td>-0.01</td>\n",
       "      <td>0.02</td>\n",
       "      <td>1.00</td>\n",
       "      <td>-0.01</td>\n",
       "    </tr>\n",
       "    <tr>\n",
       "      <th>126</th>\n",
       "      <td>-0.00</td>\n",
       "      <td>-0.01</td>\n",
       "      <td>-0.01</td>\n",
       "      <td>1.00</td>\n",
       "    </tr>\n",
       "  </tbody>\n",
       "</table>\n",
       "</div>"
      ],
      "text/plain": [
       "      0     21    39    126\n",
       "0    1.00 -0.01 -0.01 -0.00\n",
       "21  -0.01  1.00  0.02 -0.01\n",
       "39  -0.01  0.02  1.00 -0.01\n",
       "126 -0.00 -0.01 -0.01  1.00"
      ]
     },
     "execution_count": 46,
     "metadata": {},
     "output_type": "execute_result"
    }
   ],
   "source": [
    "rule3_index = 0\n",
    "selected_rules = asso3.asso_results_[rule3_index].features\n",
    "np.round(RuleToFeature(X_train, asso1.asso_results_, \n",
    "                       which_rules=selected_rules)[0].corr(),2)"
   ]
  },
  {
   "cell_type": "markdown",
   "metadata": {},
   "source": [
    "See all selected rules and their subrules."
   ]
  },
  {
   "cell_type": "code",
   "execution_count": 47,
   "metadata": {},
   "outputs": [
    {
     "name": "stdout",
     "output_type": "stream",
     "text": [
      "Rule number:  0\n",
      "Operator:  and\n",
      "+------+--------------------------------+------+-------+\n",
      "| Item | Variable                       | Sign | Value |\n",
      "+------+--------------------------------+------+-------+\n",
      "|  1   | distance_from_home             |  <   |  1.00 |\n",
      "|  2   | ratio_to_median_purchase_price |  >=  |  4.07 |\n",
      "|  3   | used_pin_number                |  ==  |    no |\n",
      "+------+--------------------------------+------+-------+\n",
      "\n",
      "Rule number:  21\n",
      "Operator:  and\n",
      "+------+--------------------------------+------+-------+\n",
      "| Item | Variable                       | Sign | Value |\n",
      "+------+--------------------------------+------+-------+\n",
      "|  1   | distance_from_home             |  >=  |  1.00 |\n",
      "|  2   | ratio_to_median_purchase_price |  >=  |  4.07 |\n",
      "|  3   | online_order                   |  ==  |   yes |\n",
      "|  4   | used_pin_number                |  ==  |    no |\n",
      "+------+--------------------------------+------+-------+\n",
      "\n",
      "Rule number:  39\n",
      "Operator:  and\n",
      "+------+--------------------+------+-------+\n",
      "| Item | Variable           | Sign | Value |\n",
      "+------+--------------------+------+-------+\n",
      "|  1   | distance_from_home |  >=  | 95.59 |\n",
      "|  2   | online_order       |  ==  |   yes |\n",
      "|  3   | used_chip          |  ==  |    no |\n",
      "|  4   | used_pin_number    |  ==  |    no |\n",
      "+------+--------------------+------+-------+\n",
      "\n",
      "Rule number:  126\n",
      "Operator:  and\n",
      "+------+--------------------------------+------+-------+\n",
      "| Item | Variable                       | Sign | Value |\n",
      "+------+--------------------------------+------+-------+\n",
      "|  1   | online_order                   |  ==  |    no |\n",
      "|  2   | ratio_to_median_purchase_price |  >=  |  4.07 |\n",
      "|  3   | distance_from_home             |  >=  | 95.59 |\n",
      "|  4   | used_pin_number                |  ==  |    no |\n",
      "+------+--------------------------------+------+-------+\n",
      "\n"
     ]
    }
   ],
   "source": [
    "for n,r in zip(asso3.asso_results_[rule3_index].features,\n",
    "               asso3.asso_results_[rule3_index].rule):\n",
    "    print(\"Rule number: \",n); print_rule(r); print()"
   ]
  },
  {
   "cell_type": "markdown",
   "metadata": {},
   "source": [
    "Summary on `X_train`"
   ]
  },
  {
   "cell_type": "code",
   "execution_count": 48,
   "metadata": {},
   "outputs": [
    {
     "name": "stdout",
     "output_type": "stream",
     "text": [
      "+----------------+-------+-------+\n",
      "| Statistics     | Value |     % |\n",
      "+----------------+-------+-------+\n",
      "| N              | 7,000 |       |\n",
      "| Target         |   581 |  8.3% |\n",
      "| True Positive  |   528 |  7.5% |\n",
      "| True Negative  | 6,408 | 91.5% |\n",
      "| False Positive |    11 |  0.2% |\n",
      "| False Negative |    53 |  0.8% |\n",
      "| Precision      |       | 98.0% |\n",
      "| Recall         |       | 90.9% |\n",
      "| Accuracy       |       | 99.1% |\n",
      "| F1-Score       |       | 94.3% |\n",
      "+----------------+-------+-------+\n"
     ]
    }
   ],
   "source": [
    "y_pred_train = RuleToFeature(X_train, asso1.asso_results_, which_rules=selected_rules)[0].sum(1)>0\n",
    "print_stats(y_train, y_pred_train)"
   ]
  },
  {
   "cell_type": "markdown",
   "metadata": {},
   "source": [
    "Summary on `X_test`"
   ]
  },
  {
   "cell_type": "code",
   "execution_count": 49,
   "metadata": {},
   "outputs": [
    {
     "name": "stdout",
     "output_type": "stream",
     "text": [
      "+----------------+-------+-------+\n",
      "| Statistics     | Value |     % |\n",
      "+----------------+-------+-------+\n",
      "| N              | 3,000 |       |\n",
      "| Target         |   258 |  8.6% |\n",
      "| True Positive  |   223 |  7.4% |\n",
      "| True Negative  | 2,740 | 91.3% |\n",
      "| False Positive |     2 |  0.1% |\n",
      "| False Negative |    35 |  1.2% |\n",
      "| Precision      |       | 99.1% |\n",
      "| Recall         |       | 86.4% |\n",
      "| Accuracy       |       | 98.8% |\n",
      "| F1-Score       |       | 92.3% |\n",
      "+----------------+-------+-------+\n"
     ]
    }
   ],
   "source": [
    "y_pred_test = RuleToFeature(X_test, asso1.asso_results_, which_rules=selected_rules)[0].sum(1)>0\n",
    "print_stats(y_test, y_pred_test)"
   ]
  },
  {
   "cell_type": "code",
   "execution_count": 50,
   "metadata": {},
   "outputs": [
    {
     "data": {
      "text/plain": [
       "EvalResults(sample=[7000, 3000], target=[581, 258], tp=[528, 223], fp=[11, 2], fn=[53, 35], tn=[6408, 2740], recall=[0.9087779690189329, 0.8643410852713178], precision=[0.9795918367346939, 0.9911111111111112], f1=[0.9428571428571427, 0.9233954451345755], accuracy=[0.9908571428571429, 0.9876666666666667])"
      ]
     },
     "execution_count": 50,
     "metadata": {},
     "output_type": "execute_result"
    }
   ],
   "source": [
    "rules = [asso1.asso_results_[n] for n in selected_rules]\n",
    "evaluate_rules([(X_train,y_train), (X_test,y_test)], rules=rules, operator=\"or\")"
   ]
  },
  {
   "cell_type": "markdown",
   "metadata": {},
   "source": [
    "## Creation of rules (3)\n",
    "- Create set of rules of your choice."
   ]
  },
  {
   "cell_type": "code",
   "execution_count": 51,
   "metadata": {},
   "outputs": [],
   "source": [
    "subrules = [('ratio_to_median_purchase_price', '>=', 4.065), \n",
    "            ('online_order', '==', 'yes'), \n",
    "            ('used_pin_number', '==', 'no')]\n",
    "operator = 'and'\n",
    "rule1 = create_rule(subrules)"
   ]
  },
  {
   "cell_type": "code",
   "execution_count": 52,
   "metadata": {},
   "outputs": [],
   "source": [
    "subrules = [('distance_from_home', '>=', 96.4349), \n",
    "            ('used_chip', '==', 'no'), \n",
    "            ('online_order', '==', 'yes'), \n",
    "            ('used_pin_number', '==', 'no')]\n",
    "operator = 'and'\n",
    "rule2 = create_rule(subrules)"
   ]
  },
  {
   "cell_type": "code",
   "execution_count": 53,
   "metadata": {},
   "outputs": [
    {
     "data": {
      "text/plain": [
       "EvalResults(sample=[7000, 3000], target=[581, 258], tp=[513, 211], fp=[7, 0], fn=[68, 47], tn=[6412, 2742], recall=[0.882960413080895, 0.8178294573643411], precision=[0.9865384615384616, 1.0], f1=[0.9318801089918256, 0.8997867803837952], accuracy=[0.9892857142857143, 0.9843333333333333])"
      ]
     },
     "execution_count": 53,
     "metadata": {},
     "output_type": "execute_result"
    }
   ],
   "source": [
    "evaluate_rules([(X_train,y_train), (X_test,y_test)], \n",
    "               rules=[rule1, rule2], operator=\"or\")"
   ]
  },
  {
   "cell_type": "code",
   "execution_count": null,
   "metadata": {},
   "outputs": [],
   "source": []
  }
 ],
 "metadata": {
  "kernelspec": {
   "display_name": "Python 3 (ipykernel)",
   "language": "python",
   "name": "python3"
  },
  "language_info": {
   "codemirror_mode": {
    "name": "ipython",
    "version": 3
   },
   "file_extension": ".py",
   "mimetype": "text/x-python",
   "name": "python",
   "nbconvert_exporter": "python",
   "pygments_lexer": "ipython3",
   "version": "3.9.7"
  }
 },
 "nbformat": 4,
 "nbformat_minor": 2
}
