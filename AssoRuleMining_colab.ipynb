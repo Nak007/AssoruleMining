{
 "cells": [
  {
   "cell_type": "markdown",
   "metadata": {},
   "source": [
    "### Google.colab\n",
    "Only execute this cell when use on google colab platform (colab)."
   ]
  },
  {
   "cell_type": "markdown",
   "metadata": {},
   "source": [
    "<table class=\"tfo-notebook-buttons\" align=\"left\">\n",
    "  <td>\n",
    "    <a target=\"_blank\" href=\"https://github.com/Nak007/AssoruleMining\">\n",
    "    <img src=\"https://www.tensorflow.org/images/GitHub-Mark-32px.png\" />View source on GitHub</a>\n",
    "  </td>\n",
    "</table>"
   ]
  },
  {
   "cell_type": "code",
   "execution_count": null,
   "metadata": {},
   "outputs": [],
   "source": [
    "# Mount with google drive.\n",
    "from google.colab import drive\n",
    "drive.mount('/content/dirve')\n",
    "# Import other libraries required. All *.py will be \n",
    "# stored under the following location i.e. '/content/example.py'.\n",
    "!git clone 'http://github.com/Nak007/AssoruleMining.git'"
   ]
  },
  {
   "cell_type": "markdown",
   "metadata": {},
   "source": [
    "## Example"
   ]
  },
  {
   "cell_type": "code",
   "execution_count": 1,
   "metadata": {},
   "outputs": [],
   "source": [
    "import pandas as pd, numpy as np, sys\n",
    "try: sys.path.append('/content/AssoruleMining')\n",
    "except: pass\n",
    "from AssoruleMining import *"
   ]
  },
  {
   "cell_type": "markdown",
   "metadata": {},
   "source": [
    "Find rules in **cascading manner** (all rules are mutually exclusive)"
   ]
  },
  {
   "cell_type": "code",
   "execution_count": 2,
   "metadata": {},
   "outputs": [],
   "source": [
    "X = pd.read_csv('card_transdata_10K.txt', sep=\"|\")\n",
    "y = X.pop(\"fraud\").values"
   ]
  },
  {
   "cell_type": "code",
   "execution_count": 3,
   "metadata": {},
   "outputs": [],
   "source": [
    "for var in [\"repeat_retailer\",\"used_chip\",\"used_pin_number\",\"online_order\"]:\n",
    "    X[var] = np.where(X[var]==1,\"yes\",\"no\")"
   ]
  },
  {
   "cell_type": "code",
   "execution_count": 4,
   "metadata": {},
   "outputs": [],
   "source": [
    "X = define_dtype(X)"
   ]
  },
  {
   "cell_type": "code",
   "execution_count": 5,
   "metadata": {},
   "outputs": [
    {
     "name": "stdout",
     "output_type": "stream",
     "text": [
      "<class 'pandas.core.frame.DataFrame'>\n",
      "RangeIndex: 10000 entries, 0 to 9999\n",
      "Data columns (total 7 columns):\n",
      " #   Column                          Non-Null Count  Dtype   \n",
      "---  ------                          --------------  -----   \n",
      " 0   distance_from_home              10000 non-null  float32 \n",
      " 1   distance_from_last_transaction  10000 non-null  float32 \n",
      " 2   ratio_to_median_purchase_price  10000 non-null  float32 \n",
      " 3   repeat_retailer                 10000 non-null  category\n",
      " 4   used_chip                       10000 non-null  category\n",
      " 5   used_pin_number                 10000 non-null  category\n",
      " 6   online_order                    10000 non-null  category\n",
      "dtypes: category(4), float32(3)\n",
      "memory usage: 156.9 KB\n"
     ]
    }
   ],
   "source": [
    "X.info()"
   ]
  },
  {
   "cell_type": "code",
   "execution_count": 6,
   "metadata": {},
   "outputs": [],
   "source": [
    "discr_X1, conditions1 = discretize(X, n_cutoffs=20)"
   ]
  },
  {
   "cell_type": "markdown",
   "metadata": {},
   "source": [
    "Discretized `X`."
   ]
  },
  {
   "cell_type": "code",
   "execution_count": 7,
   "metadata": {},
   "outputs": [
    {
     "data": {
      "text/html": [
       "<div>\n",
       "<style scoped>\n",
       "    .dataframe tbody tr th:only-of-type {\n",
       "        vertical-align: middle;\n",
       "    }\n",
       "\n",
       "    .dataframe tbody tr th {\n",
       "        vertical-align: top;\n",
       "    }\n",
       "\n",
       "    .dataframe thead th {\n",
       "        text-align: right;\n",
       "    }\n",
       "</style>\n",
       "<table border=\"1\" class=\"dataframe\">\n",
       "  <thead>\n",
       "    <tr style=\"text-align: right;\">\n",
       "      <th></th>\n",
       "      <th>0</th>\n",
       "      <th>1</th>\n",
       "      <th>2</th>\n",
       "      <th>3</th>\n",
       "      <th>4</th>\n",
       "      <th>5</th>\n",
       "      <th>6</th>\n",
       "      <th>7</th>\n",
       "      <th>8</th>\n",
       "      <th>9</th>\n",
       "      <th>...</th>\n",
       "      <th>124</th>\n",
       "      <th>125</th>\n",
       "      <th>126</th>\n",
       "      <th>127</th>\n",
       "      <th>128</th>\n",
       "      <th>129</th>\n",
       "      <th>130</th>\n",
       "      <th>131</th>\n",
       "      <th>132</th>\n",
       "      <th>133</th>\n",
       "    </tr>\n",
       "  </thead>\n",
       "  <tbody>\n",
       "    <tr>\n",
       "      <th>0</th>\n",
       "      <td>0</td>\n",
       "      <td>0</td>\n",
       "      <td>0</td>\n",
       "      <td>1</td>\n",
       "      <td>1</td>\n",
       "      <td>1</td>\n",
       "      <td>1</td>\n",
       "      <td>1</td>\n",
       "      <td>1</td>\n",
       "      <td>1</td>\n",
       "      <td>...</td>\n",
       "      <td>0</td>\n",
       "      <td>0</td>\n",
       "      <td>1</td>\n",
       "      <td>0</td>\n",
       "      <td>0</td>\n",
       "      <td>1</td>\n",
       "      <td>1</td>\n",
       "      <td>0</td>\n",
       "      <td>0</td>\n",
       "      <td>1</td>\n",
       "    </tr>\n",
       "    <tr>\n",
       "      <th>1</th>\n",
       "      <td>0</td>\n",
       "      <td>0</td>\n",
       "      <td>0</td>\n",
       "      <td>0</td>\n",
       "      <td>0</td>\n",
       "      <td>0</td>\n",
       "      <td>0</td>\n",
       "      <td>0</td>\n",
       "      <td>0</td>\n",
       "      <td>0</td>\n",
       "      <td>...</td>\n",
       "      <td>0</td>\n",
       "      <td>0</td>\n",
       "      <td>0</td>\n",
       "      <td>1</td>\n",
       "      <td>1</td>\n",
       "      <td>0</td>\n",
       "      <td>1</td>\n",
       "      <td>0</td>\n",
       "      <td>1</td>\n",
       "      <td>0</td>\n",
       "    </tr>\n",
       "    <tr>\n",
       "      <th>2</th>\n",
       "      <td>0</td>\n",
       "      <td>0</td>\n",
       "      <td>0</td>\n",
       "      <td>0</td>\n",
       "      <td>0</td>\n",
       "      <td>0</td>\n",
       "      <td>0</td>\n",
       "      <td>0</td>\n",
       "      <td>0</td>\n",
       "      <td>0</td>\n",
       "      <td>...</td>\n",
       "      <td>0</td>\n",
       "      <td>0</td>\n",
       "      <td>0</td>\n",
       "      <td>1</td>\n",
       "      <td>0</td>\n",
       "      <td>1</td>\n",
       "      <td>1</td>\n",
       "      <td>0</td>\n",
       "      <td>0</td>\n",
       "      <td>1</td>\n",
       "    </tr>\n",
       "    <tr>\n",
       "      <th>3</th>\n",
       "      <td>0</td>\n",
       "      <td>0</td>\n",
       "      <td>1</td>\n",
       "      <td>1</td>\n",
       "      <td>1</td>\n",
       "      <td>1</td>\n",
       "      <td>1</td>\n",
       "      <td>1</td>\n",
       "      <td>1</td>\n",
       "      <td>1</td>\n",
       "      <td>...</td>\n",
       "      <td>0</td>\n",
       "      <td>0</td>\n",
       "      <td>1</td>\n",
       "      <td>0</td>\n",
       "      <td>1</td>\n",
       "      <td>0</td>\n",
       "      <td>1</td>\n",
       "      <td>0</td>\n",
       "      <td>0</td>\n",
       "      <td>1</td>\n",
       "    </tr>\n",
       "    <tr>\n",
       "      <th>4</th>\n",
       "      <td>0</td>\n",
       "      <td>0</td>\n",
       "      <td>0</td>\n",
       "      <td>0</td>\n",
       "      <td>0</td>\n",
       "      <td>0</td>\n",
       "      <td>0</td>\n",
       "      <td>0</td>\n",
       "      <td>0</td>\n",
       "      <td>0</td>\n",
       "      <td>...</td>\n",
       "      <td>0</td>\n",
       "      <td>0</td>\n",
       "      <td>0</td>\n",
       "      <td>1</td>\n",
       "      <td>1</td>\n",
       "      <td>0</td>\n",
       "      <td>1</td>\n",
       "      <td>0</td>\n",
       "      <td>1</td>\n",
       "      <td>0</td>\n",
       "    </tr>\n",
       "  </tbody>\n",
       "</table>\n",
       "<p>5 rows × 134 columns</p>\n",
       "</div>"
      ],
      "text/plain": [
       "   0    1    2    3    4    5    6    7    8    9    ...  124  125  126  127  \\\n",
       "0    0    0    0    1    1    1    1    1    1    1  ...    0    0    1    0   \n",
       "1    0    0    0    0    0    0    0    0    0    0  ...    0    0    0    1   \n",
       "2    0    0    0    0    0    0    0    0    0    0  ...    0    0    0    1   \n",
       "3    0    0    1    1    1    1    1    1    1    1  ...    0    0    1    0   \n",
       "4    0    0    0    0    0    0    0    0    0    0  ...    0    0    0    1   \n",
       "\n",
       "   128  129  130  131  132  133  \n",
       "0    0    1    1    0    0    1  \n",
       "1    1    0    1    0    1    0  \n",
       "2    0    1    1    0    0    1  \n",
       "3    1    0    1    0    0    1  \n",
       "4    1    0    1    0    1    0  \n",
       "\n",
       "[5 rows x 134 columns]"
      ]
     },
     "execution_count": 7,
     "metadata": {},
     "output_type": "execute_result"
    }
   ],
   "source": [
    "discr_X1.head(5)"
   ]
  },
  {
   "cell_type": "code",
   "execution_count": 8,
   "metadata": {},
   "outputs": [
    {
     "data": {
      "application/vnd.jupyter.widget-view+json": {
       "model_id": "0b9f1602e7be41b687a0f06bbfccd872",
       "version_major": 2,
       "version_minor": 0
      },
      "text/plain": [
       "HBox(children=(HTMLMath(value='Calculating . . .'), HTMLMath(value='')))"
      ]
     },
     "metadata": {},
     "output_type": "display_data"
    }
   ],
   "source": [
    "model1 = AssoRuleMining(metric=\"f1\", operator=\"and\").fit(discr_X1, y)"
   ]
  },
  {
   "cell_type": "code",
   "execution_count": 9,
   "metadata": {},
   "outputs": [
    {
     "data": {
      "text/html": [
       "<div>\n",
       "<style scoped>\n",
       "    .dataframe tbody tr th:only-of-type {\n",
       "        vertical-align: middle;\n",
       "    }\n",
       "\n",
       "    .dataframe tbody tr th {\n",
       "        vertical-align: top;\n",
       "    }\n",
       "\n",
       "    .dataframe thead th {\n",
       "        text-align: right;\n",
       "    }\n",
       "</style>\n",
       "<table border=\"1\" class=\"dataframe\">\n",
       "  <thead>\n",
       "    <tr style=\"text-align: right;\">\n",
       "      <th></th>\n",
       "      <th>start_with</th>\n",
       "      <th>variable</th>\n",
       "      <th>n_features</th>\n",
       "      <th>p_target</th>\n",
       "      <th>p_sample</th>\n",
       "      <th>f1_score</th>\n",
       "      <th>recall</th>\n",
       "      <th>precision</th>\n",
       "      <th>entropy</th>\n",
       "    </tr>\n",
       "  </thead>\n",
       "  <tbody>\n",
       "    <tr>\n",
       "      <th>133</th>\n",
       "      <td>None</td>\n",
       "      <td>133</td>\n",
       "      <td>3</td>\n",
       "      <td>0.680572</td>\n",
       "      <td>0.0571</td>\n",
       "      <td>0.809929</td>\n",
       "      <td>0.680572</td>\n",
       "      <td>1.0</td>\n",
       "      <td>0.175776</td>\n",
       "    </tr>\n",
       "    <tr>\n",
       "      <th>113</th>\n",
       "      <td>None</td>\n",
       "      <td>113</td>\n",
       "      <td>4</td>\n",
       "      <td>0.680572</td>\n",
       "      <td>0.0571</td>\n",
       "      <td>0.809929</td>\n",
       "      <td>0.680572</td>\n",
       "      <td>1.0</td>\n",
       "      <td>0.175776</td>\n",
       "    </tr>\n",
       "    <tr>\n",
       "      <th>62</th>\n",
       "      <td>None</td>\n",
       "      <td>62</td>\n",
       "      <td>4</td>\n",
       "      <td>0.680572</td>\n",
       "      <td>0.0571</td>\n",
       "      <td>0.809929</td>\n",
       "      <td>0.680572</td>\n",
       "      <td>1.0</td>\n",
       "      <td>0.175776</td>\n",
       "    </tr>\n",
       "    <tr>\n",
       "      <th>63</th>\n",
       "      <td>None</td>\n",
       "      <td>63</td>\n",
       "      <td>4</td>\n",
       "      <td>0.680572</td>\n",
       "      <td>0.0571</td>\n",
       "      <td>0.809929</td>\n",
       "      <td>0.680572</td>\n",
       "      <td>1.0</td>\n",
       "      <td>0.175776</td>\n",
       "    </tr>\n",
       "    <tr>\n",
       "      <th>105</th>\n",
       "      <td>None</td>\n",
       "      <td>105</td>\n",
       "      <td>4</td>\n",
       "      <td>0.680572</td>\n",
       "      <td>0.0571</td>\n",
       "      <td>0.809929</td>\n",
       "      <td>0.680572</td>\n",
       "      <td>1.0</td>\n",
       "      <td>0.175776</td>\n",
       "    </tr>\n",
       "  </tbody>\n",
       "</table>\n",
       "</div>"
      ],
      "text/plain": [
       "    start_with  variable  n_features  p_target  p_sample  f1_score    recall  \\\n",
       "133       None       133           3  0.680572    0.0571  0.809929  0.680572   \n",
       "113       None       113           4  0.680572    0.0571  0.809929  0.680572   \n",
       "62        None        62           4  0.680572    0.0571  0.809929  0.680572   \n",
       "63        None        63           4  0.680572    0.0571  0.809929  0.680572   \n",
       "105       None       105           4  0.680572    0.0571  0.809929  0.680572   \n",
       "\n",
       "     precision   entropy  \n",
       "133        1.0  0.175776  \n",
       "113        1.0  0.175776  \n",
       "62         1.0  0.175776  \n",
       "63         1.0  0.175776  \n",
       "105        1.0  0.175776  "
      ]
     },
     "execution_count": 9,
     "metadata": {},
     "output_type": "execute_result"
    }
   ],
   "source": [
    "pd.DataFrame(model1.info).sort_values(by=\"f1_score\", ascending=False).head(5)"
   ]
  },
  {
   "cell_type": "markdown",
   "metadata": {},
   "source": [
    "Create $1^{st}$ condition"
   ]
  },
  {
   "cell_type": "code",
   "execution_count": 10,
   "metadata": {},
   "outputs": [],
   "source": [
    "cond1 = from_conditons(X, conditions1, model1.asso_results_[123].features)"
   ]
  },
  {
   "cell_type": "code",
   "execution_count": 11,
   "metadata": {},
   "outputs": [
    {
     "name": "stdout",
     "output_type": "stream",
     "text": [
      "('ratio_to_median_purchase_price'>=4.059) & \n",
      "('online_order'=='yes') & \n",
      "('used_pin_number'=='no')\n"
     ]
    }
   ],
   "source": [
    "print(\" & \\n\".join(cond1[1]))"
   ]
  },
  {
   "cell_type": "markdown",
   "metadata": {},
   "source": [
    "Determine next rule."
   ]
  },
  {
   "cell_type": "code",
   "execution_count": 12,
   "metadata": {},
   "outputs": [],
   "source": [
    "X2, y2 = X.loc[~cond1[0]], y[~cond1[0]]"
   ]
  },
  {
   "cell_type": "code",
   "execution_count": 13,
   "metadata": {},
   "outputs": [],
   "source": [
    "discr_X2, conditions2 = discretize(X2, n_cutoffs=20)"
   ]
  },
  {
   "cell_type": "code",
   "execution_count": 14,
   "metadata": {},
   "outputs": [
    {
     "data": {
      "application/vnd.jupyter.widget-view+json": {
       "model_id": "db4b2983a4274c01a0dfb12e1ae9b67f",
       "version_major": 2,
       "version_minor": 0
      },
      "text/plain": [
       "HBox(children=(HTMLMath(value='Calculating . . .'), HTMLMath(value='')))"
      ]
     },
     "metadata": {},
     "output_type": "display_data"
    }
   ],
   "source": [
    "model2 = AssoRuleMining(metric=\"f1\", operator=\"and\").fit(discr_X2, y2)"
   ]
  },
  {
   "cell_type": "code",
   "execution_count": 15,
   "metadata": {},
   "outputs": [
    {
     "data": {
      "text/html": [
       "<div>\n",
       "<style scoped>\n",
       "    .dataframe tbody tr th:only-of-type {\n",
       "        vertical-align: middle;\n",
       "    }\n",
       "\n",
       "    .dataframe tbody tr th {\n",
       "        vertical-align: top;\n",
       "    }\n",
       "\n",
       "    .dataframe thead th {\n",
       "        text-align: right;\n",
       "    }\n",
       "</style>\n",
       "<table border=\"1\" class=\"dataframe\">\n",
       "  <thead>\n",
       "    <tr style=\"text-align: right;\">\n",
       "      <th></th>\n",
       "      <th>start_with</th>\n",
       "      <th>variable</th>\n",
       "      <th>n_features</th>\n",
       "      <th>p_target</th>\n",
       "      <th>p_sample</th>\n",
       "      <th>f1_score</th>\n",
       "      <th>recall</th>\n",
       "      <th>precision</th>\n",
       "      <th>entropy</th>\n",
       "    </tr>\n",
       "  </thead>\n",
       "  <tbody>\n",
       "    <tr>\n",
       "      <th>133</th>\n",
       "      <td>None</td>\n",
       "      <td>133</td>\n",
       "      <td>4</td>\n",
       "      <td>0.58209</td>\n",
       "      <td>0.017393</td>\n",
       "      <td>0.722222</td>\n",
       "      <td>0.58209</td>\n",
       "      <td>0.95122</td>\n",
       "      <td>0.097591</td>\n",
       "    </tr>\n",
       "    <tr>\n",
       "      <th>29</th>\n",
       "      <td>None</td>\n",
       "      <td>29</td>\n",
       "      <td>5</td>\n",
       "      <td>0.58209</td>\n",
       "      <td>0.017393</td>\n",
       "      <td>0.722222</td>\n",
       "      <td>0.58209</td>\n",
       "      <td>0.95122</td>\n",
       "      <td>0.097591</td>\n",
       "    </tr>\n",
       "    <tr>\n",
       "      <th>22</th>\n",
       "      <td>None</td>\n",
       "      <td>22</td>\n",
       "      <td>5</td>\n",
       "      <td>0.58209</td>\n",
       "      <td>0.017393</td>\n",
       "      <td>0.722222</td>\n",
       "      <td>0.58209</td>\n",
       "      <td>0.95122</td>\n",
       "      <td>0.097591</td>\n",
       "    </tr>\n",
       "    <tr>\n",
       "      <th>23</th>\n",
       "      <td>None</td>\n",
       "      <td>23</td>\n",
       "      <td>5</td>\n",
       "      <td>0.58209</td>\n",
       "      <td>0.017393</td>\n",
       "      <td>0.722222</td>\n",
       "      <td>0.58209</td>\n",
       "      <td>0.95122</td>\n",
       "      <td>0.097591</td>\n",
       "    </tr>\n",
       "    <tr>\n",
       "      <th>24</th>\n",
       "      <td>None</td>\n",
       "      <td>24</td>\n",
       "      <td>5</td>\n",
       "      <td>0.58209</td>\n",
       "      <td>0.017393</td>\n",
       "      <td>0.722222</td>\n",
       "      <td>0.58209</td>\n",
       "      <td>0.95122</td>\n",
       "      <td>0.097591</td>\n",
       "    </tr>\n",
       "  </tbody>\n",
       "</table>\n",
       "</div>"
      ],
      "text/plain": [
       "    start_with  variable  n_features  p_target  p_sample  f1_score   recall  \\\n",
       "133       None       133           4   0.58209  0.017393  0.722222  0.58209   \n",
       "29        None        29           5   0.58209  0.017393  0.722222  0.58209   \n",
       "22        None        22           5   0.58209  0.017393  0.722222  0.58209   \n",
       "23        None        23           5   0.58209  0.017393  0.722222  0.58209   \n",
       "24        None        24           5   0.58209  0.017393  0.722222  0.58209   \n",
       "\n",
       "     precision   entropy  \n",
       "133    0.95122  0.097591  \n",
       "29     0.95122  0.097591  \n",
       "22     0.95122  0.097591  \n",
       "23     0.95122  0.097591  \n",
       "24     0.95122  0.097591  "
      ]
     },
     "execution_count": 15,
     "metadata": {},
     "output_type": "execute_result"
    }
   ],
   "source": [
    "pd.DataFrame(model2.info).sort_values(by=\"f1_score\", ascending=False).head(5)"
   ]
  },
  {
   "cell_type": "markdown",
   "metadata": {},
   "source": [
    "Create $2^{nd}$ condition"
   ]
  },
  {
   "cell_type": "code",
   "execution_count": 16,
   "metadata": {},
   "outputs": [],
   "source": [
    "cond2 = from_conditons(X, conditions2, model2.asso_results_[40].features)"
   ]
  },
  {
   "cell_type": "code",
   "execution_count": 17,
   "metadata": {},
   "outputs": [
    {
     "name": "stdout",
     "output_type": "stream",
     "text": [
      "NOT\n",
      "(('ratio_to_median_purchase_price'>=4.059) & \n",
      "('online_order'=='yes') & \n",
      "('used_pin_number'=='no'))\n",
      "AND\n",
      "(('distance_from_home'>=95.5273) & \n",
      "('used_chip'=='no') & \n",
      "('online_order'=='yes') & \n",
      "('used_pin_number'=='no'))\n"
     ]
    }
   ],
   "source": [
    "print(\"NOT\")\n",
    "print(\"(\" + \" & \\n\".join(cond1[1]) + \")\")\n",
    "print(\"AND\")\n",
    "print(\"(\" + \" & \\n\".join(cond2[1]) + \")\")"
   ]
  },
  {
   "cell_type": "markdown",
   "metadata": {},
   "source": [
    "Summary"
   ]
  },
  {
   "cell_type": "code",
   "execution_count": 18,
   "metadata": {},
   "outputs": [],
   "source": [
    "final = cond1[0] | (~cond1[0] & cond2[0])"
   ]
  },
  {
   "cell_type": "code",
   "execution_count": 19,
   "metadata": {},
   "outputs": [
    {
     "name": "stdout",
     "output_type": "stream",
     "text": [
      "Total % target : 86.65%\n",
      "Total % sample : 7.35%\n",
      "Precision : 98.91%\n",
      "Recall : 86.65%\n"
     ]
    }
   ],
   "source": [
    "print(\"Total % target : {:.2%}\".format(y[final].sum()/sum(y)))\n",
    "print(\"Total % sample : {:.2%}\".format(len(y[final])/len(y)))\n",
    "print(\"Precision : {:.2%}\".format(y[final].sum()/sum(final)))\n",
    "print(\"Recall : {:.2%}\".format(y[final].sum()/sum(y)))"
   ]
  },
  {
   "cell_type": "code",
   "execution_count": null,
   "metadata": {},
   "outputs": [],
   "source": []
  }
 ],
 "metadata": {
  "kernelspec": {
   "display_name": "Python 3 (ipykernel)",
   "language": "python",
   "name": "python3"
  },
  "language_info": {
   "codemirror_mode": {
    "name": "ipython",
    "version": 3
   },
   "file_extension": ".py",
   "mimetype": "text/x-python",
   "name": "python",
   "nbconvert_exporter": "python",
   "pygments_lexer": "ipython3",
   "version": "3.9.7"
  }
 },
 "nbformat": 4,
 "nbformat_minor": 2
}
